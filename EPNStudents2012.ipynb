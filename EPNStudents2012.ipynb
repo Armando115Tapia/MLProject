{
 "cells": [
  {
   "cell_type": "markdown",
   "id": "69a7ac4d",
   "metadata": {},
   "source": [
    "# Escuela Politécnica Nacional"
   ]
  },
  {
   "cell_type": "markdown",
   "id": "d3478776",
   "metadata": {},
   "source": [
    "### Objetivos"
   ]
  },
  {
   "cell_type": "markdown",
   "id": "b18cd58b",
   "metadata": {},
   "source": [
    "Este proyecto tiene como objetivo principal, medir el tiempo promedio que los estudiantes de la EPN se tardaron en culminar su carrera y encontrar si existe una relación entre la carrera y el tiempo de graduación"
   ]
  },
  {
   "cell_type": "markdown",
   "id": "99d60dce",
   "metadata": {},
   "source": [
    "Librerías utilizadas"
   ]
  },
  {
   "cell_type": "code",
   "execution_count": 4,
   "id": "b67b818c",
   "metadata": {},
   "outputs": [],
   "source": [
    "import tabula\n",
    "import pandas as pd"
   ]
  },
  {
   "cell_type": "markdown",
   "id": "082badf5",
   "metadata": {},
   "source": [
    "### Parámetros y configuraciones"
   ]
  },
  {
   "cell_type": "code",
   "execution_count": 96,
   "id": "e82e99ae",
   "metadata": {},
   "outputs": [],
   "source": [
    "FILE_PATH_STUDENT = \"inputs/APROBADOS INGENIERIA_2012.pdf\"\n",
    "FILE_PATH_STUDENT_HTML = \"inputs/planesTesis.html\"\n",
    "FILE_PATH_STUDENTS_CSV = \"epnStudents2021.csv\""
   ]
  },
  {
   "cell_type": "markdown",
   "id": "b44b7110",
   "metadata": {},
   "source": [
    "## Extracción"
   ]
  },
  {
   "cell_type": "markdown",
   "id": "d1fb4ffa",
   "metadata": {},
   "source": [
    "Método para crear un archivo csv a partir del pdf"
   ]
  },
  {
   "cell_type": "code",
   "execution_count": 97,
   "id": "49b3748f",
   "metadata": {},
   "outputs": [],
   "source": [
    "# TODO: Hacer que lea todas las página, de momento solo lee uno"
   ]
  },
  {
   "cell_type": "code",
   "execution_count": 98,
   "id": "bd61ed1d",
   "metadata": {},
   "outputs": [],
   "source": [
    "def getInfoFromPdf():\n",
    "    tabula.convert_into(FILE_PATH_STUDENT, \"epnStudents2021.csv\", pages='all')"
   ]
  },
  {
   "cell_type": "markdown",
   "id": "a70e96e8",
   "metadata": {},
   "source": [
    "Método para generar el dataset a partir un CSV"
   ]
  },
  {
   "cell_type": "code",
   "execution_count": 99,
   "id": "816b3013",
   "metadata": {},
   "outputs": [],
   "source": [
    "def getDatasetFromCSVFile(file_path_param):\n",
    "    data_set = pd.read_csv(FILE_PATH_STUDENTS_CSV)\n",
    "    return data_set"
   ]
  },
  {
   "cell_type": "markdown",
   "id": "60f8477f",
   "metadata": {},
   "source": [
    "Método para generar el correo electrónico de los estudiantes, este campo será utilizado para hacer match\n",
    "con el otro dataset"
   ]
  },
  {
   "cell_type": "code",
   "execution_count": 100,
   "id": "4e5aebeb",
   "metadata": {},
   "outputs": [],
   "source": [
    "def addEmail(df):\n",
    "    names = df['NOMBRES']\n",
    "    apellidos = df['APELLIDOS']\n",
    "\n",
    "    # Generar los correos electrónicos\n",
    "    correos = []\n",
    "    for nombre, apellido in zip(names, apellidos):\n",
    "        nombre_partes = nombre.lower().split()\n",
    "        apellido_partes = apellido.lower().split()\n",
    "\n",
    "        # Construir el correo electrónico\n",
    "        correo = f\"{nombre_partes[0]}.{apellido_partes[0]}@epn.edu.ec.com\"\n",
    "        correos.append(correo)\n",
    "\n",
    "    dataset['email'] = correos\n",
    "    return dataset"
   ]
  },
  {
   "cell_type": "markdown",
   "id": "e27efc07",
   "metadata": {},
   "source": [
    "Método para leer informacion de html"
   ]
  },
  {
   "cell_type": "code",
   "execution_count": 101,
   "id": "c1661bbd",
   "metadata": {},
   "outputs": [
    {
     "name": "stdout",
     "output_type": "stream",
     "text": [
      "                                                Carrera        FecGradoOral  \\\n",
      "0                    (RRA) ELECTRONICA Y AUTOMATIZACION                 NaN   \n",
      "1                    (RRA) ELECTRONICA Y AUTOMATIZACION                 NaN   \n",
      "2     (RRA) MAESTRIA DE INVESTIGACION EN GESTION DE ...                 NaN   \n",
      "3     (RRA) MAESTRIA DE INVESTIGACION EN GESTION DE ...                 NaN   \n",
      "4     (RRA) MAESTRIA DE INVESTIGACION EN GESTION DE ...                 NaN   \n",
      "...                                                 ...                 ...   \n",
      "8385             TECNOLOGIA EN MANTENIMIENTO INDUSTRIAL  17/08/2018 0:00:00   \n",
      "8386             TECNOLOGIA EN MANTENIMIENTO INDUSTRIAL                 NaN   \n",
      "8387             TECNOLOGIA EN MANTENIMIENTO INDUSTRIAL                 NaN   \n",
      "8388      TECNOLOGIA EN PROCESOS DE PRODUCCION MECANICA  15/06/2017 0:00:00   \n",
      "8389      TECNOLOGIA EN PROCESOS DE PRODUCCION MECANICA  15/06/2017 0:00:00   \n",
      "\n",
      "                           Email  \n",
      "0     juan.zambrano03@epn.edu.ec  \n",
      "1      javier.bolanos@epn.edu.ec  \n",
      "2      nelson.mayorga@epn.edu.ec  \n",
      "3        andrea.plaza@epn.edu.ec  \n",
      "4      jennifer.borja@epn.edu.ec  \n",
      "...                          ...  \n",
      "8385  cristian.sigcho@epn.edu.ec  \n",
      "8386  bolivar.sanchez@epn.edu.ec  \n",
      "8387  bolivar.sanchez@epn.edu.ec  \n",
      "8388  luis.basantes02@epn.edu.ec  \n",
      "8389  luis.basantes02@epn.edu.ec  \n",
      "\n",
      "[8390 rows x 3 columns]\n"
     ]
    }
   ],
   "source": [
    "# Leer el archivo HTML y obtener una lista de DataFrames\n",
    "dataframes = pd.read_html(FILE_PATH_STUDENT_HTML)\n",
    "\n",
    "# Acceder al primer DataFrame de la lista\n",
    "columnEmail = dataframes[0]\n",
    "columnsName = ['Carrera','FecGradoOral','Email']\n",
    "new_emp_list = []\n",
    "\n",
    "for i in range(len(columnEmail)):\n",
    "    carrera = columnEmail.iloc[i]['Carrera']\n",
    "    fecGradoOral = columnEmail.iloc[i]['FecGradoOral']\n",
    "    correos = columnEmail.iloc[i]['Email']\n",
    "    for correo in correos.split():\n",
    "        if \"@epn.edu.ec\" in correo:\n",
    "            #print(correo)\n",
    "            new_emp_list.append([carrera, fecGradoOral, correo])\n",
    "dfTarget = pd.DataFrame(new_emp_list, columns=columnsName)\n",
    "# Imprimir el nuevo DataFrame\n",
    "print(dfTarget)"
   ]
  },
  {
   "cell_type": "markdown",
   "id": "f3eb549b",
   "metadata": {},
   "source": [
    "## Transformación"
   ]
  },
  {
   "cell_type": "markdown",
   "id": "ac956133",
   "metadata": {},
   "source": [
    "## Load"
   ]
  },
  {
   "cell_type": "code",
   "execution_count": 22,
   "id": "ed6766d6",
   "metadata": {},
   "outputs": [
    {
     "name": "stdout",
     "output_type": "stream",
     "text": [
      "            APELLIDOS               NOMBRES                    CARRERA  \\\n",
      "0       ABARCA ROBLES           JUAN DANIEL  INGENIERIA AGROINDUSTRIAL   \n",
      "1     ACOSTA CEVALLOS        STALIN ROBERTO                 MATEMATICA   \n",
      "2      ACOSTA ORDOÑEZ  CHRISTOPHER LEONARDO        INGENIERIA MECANICA   \n",
      "3       ACOSTA ROSERO           LUIS FELIPE        INGENIERIA MECANICA   \n",
      "4       ACUÑA MONTERO         MARLON ANDRES                     FISICA   \n",
      "..                ...                   ...                        ...   \n",
      "768    ZAPATA HERRERA      CHRISTIAN JAVIER        INGENIERIA MECANICA   \n",
      "769    ZAPATA HIDALGO        JOSSELYN PAOLA  INGENIERIA AGROINDUSTRIAL   \n",
      "770      ZAPATA TERAN     STEPHANY CAROLINA     INGENIERIA EMPRESARIAL   \n",
      "771  ZURITA FERNANDEZ         DIEGO ESTEBAN    INGENIERIA EN PETROLEOS   \n",
      "772       ZURITA YUGS          KEVIN JAVIER        INGENIERIA MECANICA   \n",
      "\n",
      "                                 email  \n",
      "0           juan.abarca@epn.edu.ec.com  \n",
      "1         stalin.acosta@epn.edu.ec.com  \n",
      "2    christopher.acosta@epn.edu.ec.com  \n",
      "3           luis.acosta@epn.edu.ec.com  \n",
      "4          marlon.acuña@epn.edu.ec.com  \n",
      "..                                 ...  \n",
      "768    christian.zapata@epn.edu.ec.com  \n",
      "769     josselyn.zapata@epn.edu.ec.com  \n",
      "770     stephany.zapata@epn.edu.ec.com  \n",
      "771        diego.zurita@epn.edu.ec.com  \n",
      "772        kevin.zurita@epn.edu.ec.com  \n",
      "\n",
      "[773 rows x 4 columns]\n"
     ]
    }
   ],
   "source": [
    "if __name__ == '__main__':\n",
    "    getInfoFromPdf()\n",
    "    dataset = getDatasetFromCSVFile(FILE_PATH_STUDENTS_CSV)\n",
    "    dataset = addEmail(dataset)\n",
    "    print(dataset)"
   ]
  },
  {
   "cell_type": "code",
   "execution_count": null,
   "id": "07024f28",
   "metadata": {},
   "outputs": [],
   "source": []
  }
 ],
 "metadata": {
  "kernelspec": {
   "display_name": "Python 3 (ipykernel)",
   "language": "python",
   "name": "python3"
  },
  "language_info": {
   "codemirror_mode": {
    "name": "ipython",
    "version": 3
   },
   "file_extension": ".py",
   "mimetype": "text/x-python",
   "name": "python",
   "nbconvert_exporter": "python",
   "pygments_lexer": "ipython3",
   "version": "3.10.9"
  }
 },
 "nbformat": 4,
 "nbformat_minor": 5
}
