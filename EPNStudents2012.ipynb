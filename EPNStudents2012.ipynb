{
 "cells": [
  {
   "cell_type": "markdown",
   "id": "69a7ac4d",
   "metadata": {},
   "source": [
    "# Escuela Politécnica Nacional"
   ]
  },
  {
   "cell_type": "markdown",
   "id": "d3478776",
   "metadata": {},
   "source": [
    "### Objetivos"
   ]
  },
  {
   "cell_type": "markdown",
   "id": "b18cd58b",
   "metadata": {},
   "source": [
    "Este proyecto tiene como objetivo medir el tiempo promedio que los estudiantes de la EPN que ingresarone el semestre 2012-A (pertenecientes a la primera promoción del SENECYT)se tardaron en culminar su carrera y encontrar si existe una relación entre la carrera y el tiempo de graduación.\n",
    "Se debe tener en cuenta que como se trabaja con la lista de planes de tesis, los estudiantes considerados en el anális son solo los que se graduan mediante el proceso de titulación por proyecto."
   ]
  },
  {
   "cell_type": "markdown",
   "id": "99d60dce",
   "metadata": {},
   "source": [
    "Librerías utilizadas"
   ]
  },
  {
   "cell_type": "code",
   "execution_count": 5,
   "id": "b67b818c",
   "metadata": {},
   "outputs": [],
   "source": [
    "import tabula\n",
    "import pandas as pd\n",
    "from datetime import datetime\n",
    "import math"
   ]
  },
  {
   "cell_type": "markdown",
   "id": "082badf5",
   "metadata": {},
   "source": [
    "### Parámetros y configuraciones"
   ]
  },
  {
   "cell_type": "code",
   "execution_count": 6,
   "id": "e82e99ae",
   "metadata": {},
   "outputs": [],
   "source": [
    "FILE_PATH_STUDENT = \"inputs/APROBADOS INGENIERIA_2012.pdf\"\n",
    "FILE_PATH_STUDENT_HTML = \"inputs/planesTesis.html\"\n",
    "FILE_PATH_STUDENTS_CSV = \"epnStudents2021.csv\""
   ]
  },
  {
   "cell_type": "markdown",
   "id": "b44b7110",
   "metadata": {},
   "source": [
    "## Extracción"
   ]
  },
  {
   "cell_type": "markdown",
   "id": "30f9251b",
   "metadata": {},
   "source": [
    "Para realizar este análisis, se toma información de dos fuentes: \n",
    "- Lista de estudiantes aprobados para inicar el prepólitecnico en el semestre 2012 - A en formato PDF \n",
    "-  Lista de todos los planes aprovados disponible en la página del saew [saew](https://saew.epn.edu.ec/SAETESIS/BusquedaPlanTesis.aspx) en formato HTML"
   ]
  },
  {
   "cell_type": "markdown",
   "id": "7959473a",
   "metadata": {},
   "source": [
    "### Extración de información de estudiantes aprovados para el 2012-A en formato PDF"
   ]
  },
  {
   "cell_type": "markdown",
   "id": "3a3e7260",
   "metadata": {},
   "source": [
    "Leer información del pdf y convertir en archivo CSV"
   ]
  },
  {
   "cell_type": "code",
   "execution_count": 7,
   "id": "bd61ed1d",
   "metadata": {},
   "outputs": [],
   "source": [
    "def getInfoFromPdf():\n",
    "    tabula.convert_into(FILE_PATH_STUDENT, 'epnStudents2021.csv', pages='all')"
   ]
  },
  {
   "cell_type": "markdown",
   "id": "a70e96e8",
   "metadata": {},
   "source": [
    "Método para generar el dataset a partir un CSV"
   ]
  },
  {
   "cell_type": "code",
   "execution_count": 8,
   "id": "816b3013",
   "metadata": {},
   "outputs": [],
   "source": [
    "def getDatasetFromCSVFile(file_path_param):\n",
    "    data_set = pd.read_csv(FILE_PATH_STUDENTS_CSV)\n",
    "    return data_set"
   ]
  },
  {
   "cell_type": "markdown",
   "id": "60f8477f",
   "metadata": {},
   "source": [
    "Método para generar el correo electrónico de los estudiantes, este campo será utilizado para hacer match\n",
    "con el otro dataset"
   ]
  },
  {
   "cell_type": "code",
   "execution_count": 9,
   "id": "4e5aebeb",
   "metadata": {},
   "outputs": [],
   "source": [
    "def addEmail(df):\n",
    "    names = df['NOMBRES']\n",
    "    apellidos = df['APELLIDOS']\n",
    "\n",
    "    # Generar los correos electrónicos\n",
    "    correos = []\n",
    "    for nombre, apellido in zip(names, apellidos):\n",
    "        nombre_partes = nombre.lower().split()\n",
    "        apellido_partes = apellido.lower().split()\n",
    "\n",
    "        # Construir el correo electrónico\n",
    "        correo = f\"{nombre_partes[0]}.{apellido_partes[0]}@epn.edu.ec\"\n",
    "        correos.append(correo)\n",
    "\n",
    "    df['Email'] = correos\n",
    "    return df"
   ]
  },
  {
   "cell_type": "markdown",
   "id": "3f7af926",
   "metadata": {},
   "source": [
    "Método que retorna un data set con la información <br>\n",
    "[Nombre , Carrera, Email]"
   ]
  },
  {
   "cell_type": "code",
   "execution_count": 10,
   "id": "ca73de57",
   "metadata": {},
   "outputs": [],
   "source": [
    "def getInfo2012Students():\n",
    "    getInfoFromPdf()\n",
    "    info_students_from_pdf = getDatasetFromCSVFile(FILE_PATH_STUDENTS_CSV)\n",
    "    info_studens_with_email = addEmail(info_students_from_pdf)\n",
    "    return info_studens_with_email\n",
    "    "
   ]
  },
  {
   "cell_type": "code",
   "execution_count": 11,
   "id": "872d4226",
   "metadata": {},
   "outputs": [],
   "source": [
    "students_2012_info = getInfo2012Students()"
   ]
  },
  {
   "cell_type": "code",
   "execution_count": 12,
   "id": "992a4f4c",
   "metadata": {},
   "outputs": [],
   "source": [
    "#print(students_2012_info)"
   ]
  },
  {
   "cell_type": "markdown",
   "id": "c94a91a7",
   "metadata": {},
   "source": [
    "### Extración de información los planes de proyecto de titulación en formato HTML"
   ]
  },
  {
   "cell_type": "markdown",
   "id": "9143a52e",
   "metadata": {},
   "source": [
    "Método para extraer información del archivo html, donde se encuentran los planes de tesis\n"
   ]
  },
  {
   "cell_type": "code",
   "execution_count": 13,
   "id": "4025358a",
   "metadata": {},
   "outputs": [],
   "source": [
    "def getInfoTesisFromHTML():\n",
    "    dataframes = pd.read_html(FILE_PATH_STUDENT_HTML)\n",
    "\n",
    "    columnEmail = dataframes[0]\n",
    "    columnsName = ['Carrera','FecGradoOral','Email']\n",
    "    new_emp_list = []\n",
    "\n",
    "    for i in range(len(columnEmail)):\n",
    "        carrera = columnEmail.iloc[i]['Carrera']\n",
    "        fecGradoOral = columnEmail.iloc[i]['FecGradoOral']\n",
    "        correos = columnEmail.iloc[i]['Email']\n",
    "        for correo in correos.split():\n",
    "            if \"@epn.edu.ec\" in correo:\n",
    "                #print(correo)\n",
    "                new_emp_list.append([carrera, fecGradoOral, correo])\n",
    "    return pd.DataFrame(new_emp_list, columns=columnsName)"
   ]
  },
  {
   "cell_type": "code",
   "execution_count": 14,
   "id": "9641417d",
   "metadata": {},
   "outputs": [],
   "source": [
    "students_and_tesis = getInfoTesisFromHTML()"
   ]
  },
  {
   "cell_type": "code",
   "execution_count": 15,
   "id": "a50d076a",
   "metadata": {},
   "outputs": [
    {
     "name": "stdout",
     "output_type": "stream",
     "text": [
      "                                                Carrera        FecGradoOral  \\\n",
      "0                    (RRA) ELECTRONICA Y AUTOMATIZACION                 NaN   \n",
      "1                    (RRA) ELECTRONICA Y AUTOMATIZACION                 NaN   \n",
      "2     (RRA) MAESTRIA DE INVESTIGACION EN GESTION DE ...                 NaN   \n",
      "3     (RRA) MAESTRIA DE INVESTIGACION EN GESTION DE ...                 NaN   \n",
      "4     (RRA) MAESTRIA DE INVESTIGACION EN GESTION DE ...                 NaN   \n",
      "...                                                 ...                 ...   \n",
      "8385             TECNOLOGIA EN MANTENIMIENTO INDUSTRIAL  17/08/2018 0:00:00   \n",
      "8386             TECNOLOGIA EN MANTENIMIENTO INDUSTRIAL                 NaN   \n",
      "8387             TECNOLOGIA EN MANTENIMIENTO INDUSTRIAL                 NaN   \n",
      "8388      TECNOLOGIA EN PROCESOS DE PRODUCCION MECANICA  15/06/2017 0:00:00   \n",
      "8389      TECNOLOGIA EN PROCESOS DE PRODUCCION MECANICA  15/06/2017 0:00:00   \n",
      "\n",
      "                           Email  \n",
      "0     juan.zambrano03@epn.edu.ec  \n",
      "1      javier.bolanos@epn.edu.ec  \n",
      "2      nelson.mayorga@epn.edu.ec  \n",
      "3        andrea.plaza@epn.edu.ec  \n",
      "4      jennifer.borja@epn.edu.ec  \n",
      "...                          ...  \n",
      "8385  cristian.sigcho@epn.edu.ec  \n",
      "8386  bolivar.sanchez@epn.edu.ec  \n",
      "8387  bolivar.sanchez@epn.edu.ec  \n",
      "8388  luis.basantes02@epn.edu.ec  \n",
      "8389  luis.basantes02@epn.edu.ec  \n",
      "\n",
      "[8390 rows x 3 columns]\n"
     ]
    }
   ],
   "source": [
    "print(students_and_tesis)"
   ]
  },
  {
   "cell_type": "markdown",
   "id": "f3eb549b",
   "metadata": {},
   "source": [
    "## Transformación"
   ]
  },
  {
   "cell_type": "markdown",
   "id": "734f9930",
   "metadata": {},
   "source": [
    "Para el proceso de transformación se procede a intersecar los dos dataframes, mediante el correo institucional"
   ]
  },
  {
   "cell_type": "markdown",
   "id": "79f206ab",
   "metadata": {},
   "source": [
    "Método que genera un nuevo dataFrame realizando una intersección entre los dos dataFrames en base al campo email"
   ]
  },
  {
   "cell_type": "code",
   "execution_count": 16,
   "id": "034a62b1",
   "metadata": {},
   "outputs": [],
   "source": [
    "def generar_dataframe_interseccion(df1, df2):\n",
    "    # Obtiene los correos electrónicos únicos en ambos DataFrames\n",
    "    emails_df1 = set(df1['Email'])\n",
    "    emails_df2 = set(df2['Email'])\n",
    "    \n",
    "    \n",
    "    # Encuentra los correos electrónicos que se repiten en ambos DataFrames\n",
    "    emails_repetidos = list(emails_df1.intersection(emails_df2))\n",
    "    \n",
    "    # Filtra los DataFrames originales utilizando los correos electrónicos repetidos\n",
    "    df1_interseccion = df1[df1['Email'].isin(emails_repetidos)]\n",
    "    df2_interseccion = df2[df2['Email'].isin(emails_repetidos)]\n",
    "    \n",
    "    # Crea un nuevo DataFrame con los valores que se repiten en ambos DataFrames\n",
    "    dataframe_interseccion = pd.concat([df1_interseccion, df2_interseccion], ignore_index=True)\n",
    "    \n",
    "    return dataframe_interseccion"
   ]
  },
  {
   "cell_type": "code",
   "execution_count": 17,
   "id": "30a58e8f",
   "metadata": {},
   "outputs": [],
   "source": [
    "merge_info = generar_dataframe_interseccion(students_2012_info,students_and_tesis)"
   ]
  },
  {
   "cell_type": "markdown",
   "id": "85eba3ce",
   "metadata": {},
   "source": [
    "Método que transforma la fecha"
   ]
  },
  {
   "cell_type": "code",
   "execution_count": 18,
   "id": "62942162",
   "metadata": {},
   "outputs": [],
   "source": [
    "def convertir_fecha(cadena_fecha):\n",
    "    formato = \"%d/%m/%Y %H:%M:%S\"\n",
    "    fecha = datetime.strptime(cadena_fecha, formato)\n",
    "    return fecha"
   ]
  },
  {
   "cell_type": "markdown",
   "id": "27b32151",
   "metadata": {},
   "source": [
    "Calular el tiempo"
   ]
  },
  {
   "cell_type": "code",
   "execution_count": 62,
   "id": "61200459",
   "metadata": {},
   "outputs": [],
   "source": [
    "def restar_fechas(fecha1, fecha2):\n",
    "    formato = '%Y-%m-%d %H:%M:%S'\n",
    "    \n",
    "    # Convertir las cadenas a objetos datetime\n",
    "    fecha1_dt = datetime.strptime(fecha1, formato)\n",
    "    fecha2_dt = datetime.strptime(fecha2, formato)\n",
    "    \n",
    "    # Calcular la diferencia de tiempo\n",
    "    diferencia = fecha2_dt - fecha1_dt\n",
    "    \n",
    "    # Calcular la diferencia en años\n",
    "    diferencia_anios = diferencia.days / 365.25\n",
    "    \n",
    "    # Retornar la diferencia en años\n",
    "    return diferencia_anios\n"
   ]
  },
  {
   "cell_type": "markdown",
   "id": "de2cb329",
   "metadata": {},
   "source": [
    "Método que toma le fecha en la que se registró la defensa de grado oral 'FecGradoOral' y se procede a calcular el tiempo transcurrido desde 2012\n"
   ]
  },
  {
   "cell_type": "code",
   "execution_count": 63,
   "id": "459c04b1",
   "metadata": {},
   "outputs": [],
   "source": [
    "def calcular_anios(fecha1, fecha2):\n",
    "    anios = fecha1.year - fecha2.year\n",
    "    if fecha1.month < fecha2.month or (fecha1.month == fecha2.month and fecha1.day < fecha2.day):\n",
    "        anios -= 1\n",
    "    return anios"
   ]
  },
  {
   "cell_type": "code",
   "execution_count": 95,
   "id": "e86ce003",
   "metadata": {},
   "outputs": [],
   "source": [
    "def add_elapsed_time_column(df):\n",
    "    # Constantes\n",
    "    formato = \"%d/%m/%Y %H:%M:%S\"\n",
    "    date_time_2012 = datetime(2012, 1, 1, 0, 0, 0)\n",
    "    \n",
    "    oral_defense_date_string = df['FecGradoOral']\n",
    "    elapsed_date_from_2012 = []\n",
    "    \n",
    "    for line in oral_defense_date_string:\n",
    "        if isinstance(line, str):\n",
    "            fecha_datetime = datetime.strptime(line, formato)\n",
    "            elapsed_time = calcular_anios(fecha_datetime, date_time_2012)\n",
    "            elapsed_date_from_2012.append(elapsed_time)\n",
    "        else:\n",
    "            elapsed_date_from_2012.append(0)\n",
    "    \n",
    "    df['TiempoGraduación'] = elapsed_date_from_2012\n",
    "    return df\n",
    "            "
   ]
  },
  {
   "cell_type": "code",
   "execution_count": 96,
   "id": "a1e88583",
   "metadata": {},
   "outputs": [],
   "source": [
    "clean_info = add_elapsed_time_column(merge_info)"
   ]
  },
  {
   "cell_type": "code",
   "execution_count": 97,
   "id": "a5cfaae6",
   "metadata": {
    "scrolled": true
   },
   "outputs": [
    {
     "name": "stdout",
     "output_type": "stream",
     "text": [
      "            APELLIDOS           NOMBRES  \\\n",
      "0       ABARCA ROBLES       JUAN DANIEL   \n",
      "1     AGUILAR ALVAREZ    SANDRA NATHALY   \n",
      "2    AGUILAR ENRÍQUEZ  MIGUEL ALEJANDRO   \n",
      "3       AGUIRRE CUEVA  KLEBER ALEXANDER   \n",
      "4         AGUIRRE IZA   STALIN PATRICIO   \n",
      "..                ...               ...   \n",
      "629               NaN               NaN   \n",
      "630               NaN               NaN   \n",
      "631               NaN               NaN   \n",
      "632               NaN               NaN   \n",
      "633               NaN               NaN   \n",
      "\n",
      "                                               CARRERA  \\\n",
      "0                            INGENIERIA AGROINDUSTRIAL   \n",
      "1        INGENIERIA ELECTRONICA Y REDES DE INFORMACION   \n",
      "2                                           MATEMATICA   \n",
      "3        INGENIERIA ELECTRONICA Y REDES DE INFORMACION   \n",
      "4    INGENIERIA EN SISTEMAS INFORMATICOS Y DE COMPU...   \n",
      "..                                                 ...   \n",
      "629                                                NaN   \n",
      "630                                                NaN   \n",
      "631                                                NaN   \n",
      "632                                                NaN   \n",
      "633                                                NaN   \n",
      "\n",
      "                          Email                        Carrera  \\\n",
      "0        juan.abarca@epn.edu.ec                            NaN   \n",
      "1     sandra.aguilar@epn.edu.ec                            NaN   \n",
      "2     miguel.aguilar@epn.edu.ec                            NaN   \n",
      "3     kleber.aguirre@epn.edu.ec                            NaN   \n",
      "4     stalin.aguirre@epn.edu.ec                            NaN   \n",
      "..                          ...                            ...   \n",
      "629  leonardo.medina@epn.edu.ec                     MATEMATICA   \n",
      "630  paola.quiloango@epn.edu.ec                     MATEMATICA   \n",
      "631        ana.taipe@epn.edu.ec                     MATEMATICA   \n",
      "632   kevin.carrillo@epn.edu.ec  TECNOLOGIA EN ELECTROMECANICA   \n",
      "633   kevin.carrillo@epn.edu.ec  TECNOLOGIA EN ELECTROMECANICA   \n",
      "\n",
      "           FecGradoOral  TiempoGraduación  \n",
      "0                   NaN                 0  \n",
      "1                   NaN                 0  \n",
      "2                   NaN                 0  \n",
      "3                   NaN                 0  \n",
      "4                   NaN                 0  \n",
      "..                  ...               ...  \n",
      "629  06/09/2019 0:00:00                 7  \n",
      "630  09/10/2018 0:00:00                 6  \n",
      "631  26/01/2023 0:00:00                11  \n",
      "632  30/06/2021 0:00:00                 9  \n",
      "633  14/09/2021 0:00:00                 9  \n",
      "\n",
      "[634 rows x 7 columns]\n"
     ]
    }
   ],
   "source": [
    "print(clean_info)"
   ]
  },
  {
   "cell_type": "markdown",
   "id": "ac956133",
   "metadata": {},
   "source": [
    "## Load"
   ]
  },
  {
   "cell_type": "markdown",
   "id": "e31cdb71",
   "metadata": {},
   "source": [
    "Vamos a realizar un gráfico que nos indique que el timepo de la carrera"
   ]
  },
  {
   "cell_type": "code",
   "execution_count": 98,
   "id": "cb74a637",
   "metadata": {},
   "outputs": [
    {
     "name": "stdout",
     "output_type": "stream",
     "text": [
      "***\n",
      "              APELLIDOS             NOMBRES                    CARRERA  \\\n",
      "0         ABARCA ROBLES         JUAN DANIEL  INGENIERIA AGROINDUSTRIAL   \n",
      "29        BRITO SEVILLA     DAYANNA LIZBETH  INGENIERIA AGROINDUSTRIAL   \n",
      "54    CEVALLOS GALLEGOS         ALAN ANDRES  INGENIERIA AGROINDUSTRIAL   \n",
      "66         CORNEJO PAEZ      CAMILA NATALIA  INGENIERIA AGROINDUSTRIAL   \n",
      "74          CUESTA PLUA      MARIA CRISTINA  INGENIERIA AGROINDUSTRIAL   \n",
      "80      DELGADO ALMEIDA    ANDREA ELIZABETH  INGENIERIA AGROINDUSTRIAL   \n",
      "87        ESPINOZA BÁEZ  KATHERINE ANABELLE  INGENIERIA AGROINDUSTRIAL   \n",
      "96    GALLEGOS CEVALLOS        CARLOS DARIO  INGENIERIA AGROINDUSTRIAL   \n",
      "107    HERRERA QUIÑONEZ      TANIA CAROLINA  INGENIERIA AGROINDUSTRIAL   \n",
      "133        LOZANO ORTIZ        BRYAN MIGUEL  INGENIERIA AGROINDUSTRIAL   \n",
      "139     MARTINEZ CHULDE     KATHERINE ELISA  INGENIERIA AGROINDUSTRIAL   \n",
      "192       PULLAS FLORES   ESTEFANI YESSENIA  INGENIERIA AGROINDUSTRIAL   \n",
      "206      REVELO MORILLO  GABRIELA ALEXANDRA  INGENIERIA AGROINDUSTRIAL   \n",
      "227       SANDOYA HOUSE         LITA DAYUMA  INGENIERIA AGROINDUSTRIAL   \n",
      "228     SANGUCHO BARROS       MAYRA SILVANA  INGENIERIA AGROINDUSTRIAL   \n",
      "249         TIXE MESIAS     MARYURI VANESSA  INGENIERIA AGROINDUSTRIAL   \n",
      "275  VELASQUEZ MARCILLO      NAYLA DAYANARA  INGENIERIA AGROINDUSTRIAL   \n",
      "\n",
      "                             Email Carrera FecGradoOral  TiempoGraduación  \n",
      "0           juan.abarca@epn.edu.ec     NaN          NaN                 0  \n",
      "29        dayanna.brito@epn.edu.ec     NaN          NaN                 0  \n",
      "54        alan.cevallos@epn.edu.ec     NaN          NaN                 0  \n",
      "66       camila.cornejo@epn.edu.ec     NaN          NaN                 0  \n",
      "74         maria.cuesta@epn.edu.ec     NaN          NaN                 0  \n",
      "80       andrea.delgado@epn.edu.ec     NaN          NaN                 0  \n",
      "87   katherine.espinoza@epn.edu.ec     NaN          NaN                 0  \n",
      "96      carlos.gallegos@epn.edu.ec     NaN          NaN                 0  \n",
      "107       tania.herrera@epn.edu.ec     NaN          NaN                 0  \n",
      "133        bryan.lozano@epn.edu.ec     NaN          NaN                 0  \n",
      "139  katherine.martinez@epn.edu.ec     NaN          NaN                 0  \n",
      "192     estefani.pullas@epn.edu.ec     NaN          NaN                 0  \n",
      "206     gabriela.revelo@epn.edu.ec     NaN          NaN                 0  \n",
      "227        lita.sandoya@epn.edu.ec     NaN          NaN                 0  \n",
      "228      mayra.sangucho@epn.edu.ec     NaN          NaN                 0  \n",
      "249        maryuri.tixe@epn.edu.ec     NaN          NaN                 0  \n",
      "275     nayla.velasquez@epn.edu.ec     NaN          NaN                 0  \n",
      "---\n",
      "0.0\n",
      "***\n"
     ]
    }
   ],
   "source": [
    "import matplotlib.pyplot as plt\n",
    "import pandas as pd\n",
    "import numpy as np\n",
    "agrupado = clean_info.groupby(['CARRERA'])\n",
    "print(\"***\")\n",
    "print(agrupado.get_group('INGENIERIA AGROINDUSTRIAL'))\n",
    "print(\"---\")\n",
    "print(agrupado.get_group('INGENIERIA AGROINDUSTRIAL')['TiempoGraduación'].mean())\n",
    "print(\"***\")\n"
   ]
  },
  {
   "cell_type": "code",
   "execution_count": null,
   "id": "14cb7029",
   "metadata": {},
   "outputs": [],
   "source": []
  },
  {
   "cell_type": "code",
   "execution_count": null,
   "id": "748242d4",
   "metadata": {},
   "outputs": [],
   "source": []
  }
 ],
 "metadata": {
  "kernelspec": {
   "display_name": "Python 3 (ipykernel)",
   "language": "python",
   "name": "python3"
  },
  "language_info": {
   "codemirror_mode": {
    "name": "ipython",
    "version": 3
   },
   "file_extension": ".py",
   "mimetype": "text/x-python",
   "name": "python",
   "nbconvert_exporter": "python",
   "pygments_lexer": "ipython3",
   "version": "3.10.9"
  }
 },
 "nbformat": 4,
 "nbformat_minor": 5
}
