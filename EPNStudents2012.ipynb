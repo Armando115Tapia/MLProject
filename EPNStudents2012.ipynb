{
 "cells": [
  {
   "cell_type": "markdown",
   "id": "69a7ac4d",
   "metadata": {},
   "source": [
    "# Escuela Politécnica Nacional"
   ]
  },
  {
   "cell_type": "markdown",
   "id": "d3478776",
   "metadata": {},
   "source": [
    "### Objetivos"
   ]
  },
  {
   "cell_type": "markdown",
   "id": "b18cd58b",
   "metadata": {},
   "source": [
    "Este proyecto tiene como objetivo medir el tiempo promedio que los estudiantes de la EPN que ingresarone el semestre 2012-A (pertenecientes a la primera promoción del SENECYT)se tardaron en culminar su carrera y encontrar si existe una relación entre la carrera y el tiempo de graduación.\n",
    "Se debe tener en cuenta que como se trabaja con la lista de planes de tesis, los estudiantes considerados en el anális son solo los que se graduan mediante el proceso de titulación por proyecto."
   ]
  },
  {
   "cell_type": "markdown",
   "id": "99d60dce",
   "metadata": {},
   "source": [
    "Librerías utilizadas"
   ]
  },
  {
   "cell_type": "code",
   "execution_count": 1,
   "id": "b67b818c",
   "metadata": {},
   "outputs": [],
   "source": [
    "import tabula\n",
    "import pandas as pd\n",
    "from datetime import datetime\n",
    "import math"
   ]
  },
  {
   "cell_type": "markdown",
   "id": "082badf5",
   "metadata": {},
   "source": [
    "### Parámetros y configuraciones"
   ]
  },
  {
   "cell_type": "code",
   "execution_count": 2,
   "id": "e82e99ae",
   "metadata": {},
   "outputs": [],
   "source": [
    "FILE_PATH_STUDENT = \"inputs/APROBADOS INGENIERIA_2012.pdf\"\n",
    "FILE_PATH_STUDENT_HTML = \"inputs/planesTesis.html\"\n",
    "FILE_PATH_STUDENTS_CSV = \"epnStudents2021.csv\""
   ]
  },
  {
   "cell_type": "markdown",
   "id": "b44b7110",
   "metadata": {},
   "source": [
    "## Extracción"
   ]
  },
  {
   "cell_type": "markdown",
   "id": "30f9251b",
   "metadata": {},
   "source": [
    "Para realizar este análisis, se toma información de dos fuentes: \n",
    "- Lista de estudiantes aprobados para inicar el prepólitecnico en el semestre 2012 - A en formato PDF \n",
    "-  Lista de todos los planes aprovados disponible en la página del saew [saew](https://saew.epn.edu.ec/SAETESIS/BusquedaPlanTesis.aspx) en formato HTML"
   ]
  },
  {
   "cell_type": "markdown",
   "id": "7959473a",
   "metadata": {},
   "source": [
    "### Extración de información de estudiantes aprovados para el 2012-A en formato PDF"
   ]
  },
  {
   "cell_type": "markdown",
   "id": "3a3e7260",
   "metadata": {},
   "source": [
    "Leer información del pdf y convertir en archivo CSV"
   ]
  },
  {
   "cell_type": "code",
   "execution_count": 3,
   "id": "bd61ed1d",
   "metadata": {},
   "outputs": [],
   "source": [
    "def getInfoFromPdf():\n",
    "    tabula.convert_into(FILE_PATH_STUDENT, 'epnStudents2021.csv', pages='all')"
   ]
  },
  {
   "cell_type": "markdown",
   "id": "a70e96e8",
   "metadata": {},
   "source": [
    "Método para generar el dataset a partir un CSV"
   ]
  },
  {
   "cell_type": "code",
   "execution_count": 4,
   "id": "816b3013",
   "metadata": {},
   "outputs": [],
   "source": [
    "def getDatasetFromCSVFile(file_path_param):\n",
    "    data_set = pd.read_csv(FILE_PATH_STUDENTS_CSV)\n",
    "    return data_set"
   ]
  },
  {
   "cell_type": "markdown",
   "id": "60f8477f",
   "metadata": {},
   "source": [
    "Método para generar el correo electrónico de los estudiantes, este campo será utilizado para hacer match\n",
    "con el otro dataset"
   ]
  },
  {
   "cell_type": "code",
   "execution_count": 5,
   "id": "4e5aebeb",
   "metadata": {},
   "outputs": [],
   "source": [
    "def addEmail(df):\n",
    "    names = df['NOMBRES']\n",
    "    apellidos = df['APELLIDOS']\n",
    "\n",
    "    # Generar los correos electrónicos\n",
    "    correos = []\n",
    "    for nombre, apellido in zip(names, apellidos):\n",
    "        nombre_partes = nombre.lower().split()\n",
    "        apellido_partes = apellido.lower().split()\n",
    "\n",
    "        # Construir el correo electrónico\n",
    "        correo = f\"{nombre_partes[0]}.{apellido_partes[0]}@epn.edu.ec\"\n",
    "        correos.append(correo)\n",
    "\n",
    "    df['Email'] = correos\n",
    "    return df"
   ]
  },
  {
   "cell_type": "markdown",
   "id": "3f7af926",
   "metadata": {},
   "source": [
    "Método que retorna un data set con la información <br>\n",
    "[Nombre , Carrera, Email]"
   ]
  },
  {
   "cell_type": "code",
   "execution_count": 6,
   "id": "ca73de57",
   "metadata": {},
   "outputs": [],
   "source": [
    "def getInfo2012Students():\n",
    "    getInfoFromPdf()\n",
    "    info_students_from_pdf = getDatasetFromCSVFile(FILE_PATH_STUDENTS_CSV)\n",
    "    info_studens_with_email = addEmail(info_students_from_pdf)\n",
    "    return info_studens_with_email\n",
    "    "
   ]
  },
  {
   "cell_type": "code",
   "execution_count": 7,
   "id": "872d4226",
   "metadata": {},
   "outputs": [],
   "source": [
    "students_2012_info = getInfo2012Students()"
   ]
  },
  {
   "cell_type": "code",
   "execution_count": 8,
   "id": "992a4f4c",
   "metadata": {},
   "outputs": [],
   "source": [
    "#print(students_2012_info)"
   ]
  },
  {
   "cell_type": "markdown",
   "id": "c94a91a7",
   "metadata": {},
   "source": [
    "### Extración de información los planes de proyecto de titulación en formato HTML"
   ]
  },
  {
   "cell_type": "markdown",
   "id": "d544f94a",
   "metadata": {},
   "source": [
    "Método para sacar la info del html V2"
   ]
  },
  {
   "cell_type": "markdown",
   "id": "40619bc9",
   "metadata": {},
   "source": [
    "Metodo para tomar solo las columnas necesaraias"
   ]
  },
  {
   "cell_type": "code",
   "execution_count": 9,
   "id": "bc3fcf67",
   "metadata": {},
   "outputs": [],
   "source": [
    "def generar_dataframe(datos, columnas_necesarias):\n",
    "    df = pd.DataFrame(datos, columns=columnas_necesarias)\n",
    "    return df"
   ]
  },
  {
   "cell_type": "code",
   "execution_count": 10,
   "id": "b31570cd",
   "metadata": {},
   "outputs": [],
   "source": [
    "def getEpnMails(email_str):\n",
    "    all_emails = list(map(lambda email: email.replace(\";\",\"\"), email_str.split()))\n",
    "    epn_mails = list(filter(lambda email: \"@epn.edu.ec\" in email, all_emails))\n",
    "    return ' '.join(epn_mails)"
   ]
  },
  {
   "cell_type": "code",
   "execution_count": 11,
   "id": "73e4f87e",
   "metadata": {},
   "outputs": [],
   "source": [
    "def getInfo(df):\n",
    "    return generar_dataframe(df, ['Carrera', 'FecGradoOral', 'Email'])"
   ]
  },
  {
   "cell_type": "markdown",
   "id": "d675a3cf",
   "metadata": {},
   "source": [
    "Método que genera un dataFrame solo con los correos de la EPN"
   ]
  },
  {
   "cell_type": "code",
   "execution_count": 12,
   "id": "a51bf7e0",
   "metadata": {},
   "outputs": [],
   "source": [
    "def getOnlyEpnMails(df):\n",
    "    data_frame_all_emails = getInfo(df)\n",
    "    email_col = data_frame_all_emails['Email']\n",
    "    epn_email_col = []\n",
    "    for emails in email_col:\n",
    "        epn_mails = getEpnMails(emails)\n",
    "        epn_email_col.append(epn_mails)\n",
    "    \n",
    "    data_frame_all_emails['EpnEmails'] = epn_email_col\n",
    "    return data_frame_all_emails"
   ]
  },
  {
   "cell_type": "markdown",
   "id": "8b429cef",
   "metadata": {},
   "source": [
    "Todo: Lo que hay que hacer es: \n",
    "1 . Generar un nuevo dataFrame\n",
    "2. Las filas que ingresan directamente son las que tienen un solo correo\n",
    "3. Las filas que tiene mas de un correo se debe duplicar, y cada nueva fila debe tener solo un correo de los anteriores"
   ]
  },
  {
   "cell_type": "code",
   "execution_count": 13,
   "id": "1f1f0941",
   "metadata": {},
   "outputs": [],
   "source": [
    "dataframes = pd.read_html(FILE_PATH_STUDENT_HTML)\n",
    "students_and_tesis = getOnlyEpnMails(dataframes[0])\n",
    "\n"
   ]
  },
  {
   "cell_type": "markdown",
   "id": "e32c040e",
   "metadata": {},
   "source": [
    "Método que valida si hay más de dos correos en la columa 'EpnEmails', replica la información y deja un solo correo"
   ]
  },
  {
   "cell_type": "code",
   "execution_count": 53,
   "id": "4fb30164",
   "metadata": {},
   "outputs": [],
   "source": [
    "def getUniqueEmail(df):\n",
    "    df_destino = pd.DataFrame()\n",
    "    for index, row in df.iterrows():\n",
    "        epn_emails = row['EpnEmails'].split(' ')\n",
    "        epn_emails = [email.strip() for email in epn_emails]\n",
    "        if len(epn_emails) == 1:\n",
    "            fila = df.iloc[index]\n",
    "            fila['Epn_mail_unique'] = str(epn_emails[0])\n",
    "            df_destino = pd.concat([df_destino, fila.to_frame().T])\n",
    "        else:\n",
    "            for idx, epn_mail in enumerate(epn_emails):\n",
    "                fila = df.iloc[index]\n",
    "                fila['Epn_mail_unique'] = str(epn_mail)\n",
    "                df_destino = pd.concat([df_destino, fila.to_frame().T])\n",
    "\n",
    "    return df_destino\n",
    "    "
   ]
  },
  {
   "cell_type": "code",
   "execution_count": 55,
   "id": "b62b9caa",
   "metadata": {},
   "outputs": [],
   "source": [
    "df3 = getUniqueEmail(students_and_tesis)"
   ]
  },
  {
   "cell_type": "code",
   "execution_count": 56,
   "id": "e11eacb3",
   "metadata": {},
   "outputs": [
    {
     "name": "stdout",
     "output_type": "stream",
     "text": [
      "                                                Carrera        FecGradoOral  \\\n",
      "0                    (RRA) ELECTRONICA Y AUTOMATIZACION                 NaN   \n",
      "0                    (RRA) ELECTRONICA Y AUTOMATIZACION                 NaN   \n",
      "1     (RRA) MAESTRIA DE INVESTIGACION EN GESTION DE ...                 NaN   \n",
      "2     (RRA) MAESTRIA DE INVESTIGACION EN GESTION DE ...                 NaN   \n",
      "3     (RRA) MAESTRIA DE INVESTIGACION EN GESTION DE ...                 NaN   \n",
      "...                                                 ...                 ...   \n",
      "6596             TECNOLOGIA EN MANTENIMIENTO INDUSTRIAL  17/08/2018 0:00:00   \n",
      "6597             TECNOLOGIA EN MANTENIMIENTO INDUSTRIAL                 NaN   \n",
      "6598             TECNOLOGIA EN MANTENIMIENTO INDUSTRIAL                 NaN   \n",
      "6599      TECNOLOGIA EN PROCESOS DE PRODUCCION MECANICA  15/06/2017 0:00:00   \n",
      "6600      TECNOLOGIA EN PROCESOS DE PRODUCCION MECANICA  15/06/2017 0:00:00   \n",
      "\n",
      "                                                  Email  \\\n",
      "0     spjuandiego@hotmail.com; juan.zambrano03@epn.e...   \n",
      "0     spjuandiego@hotmail.com; juan.zambrano03@epn.e...   \n",
      "1     Fernando.mayorgaortiz@yahoo.com; nelson.mayorg...   \n",
      "2      andy10plaza@hotmail.com; andrea.plaza@epn.edu.ec   \n",
      "3        jeny.63@hotmail.com; jennifer.borja@epn.edu.ec   \n",
      "...                                                 ...   \n",
      "6596  cristian_dario1989@hotmail.com; cristian.sigch...   \n",
      "6597  bescobarguionbajoepn@gmail.com; bolivar.sanche...   \n",
      "6598  bescobarguionbajoepn@gmail.com; bolivar.sanche...   \n",
      "6599  lurobasantes@hotmail.com; luis.basantes02@epn....   \n",
      "6600  lurobasantes@hotmail.com; luis.basantes02@epn....   \n",
      "\n",
      "                                              EpnEmails  \\\n",
      "0     juan.zambrano03@epn.edu.ec javier.bolanos@epn....   \n",
      "0     juan.zambrano03@epn.edu.ec javier.bolanos@epn....   \n",
      "1                             nelson.mayorga@epn.edu.ec   \n",
      "2                               andrea.plaza@epn.edu.ec   \n",
      "3                             jennifer.borja@epn.edu.ec   \n",
      "...                                                 ...   \n",
      "6596                         cristian.sigcho@epn.edu.ec   \n",
      "6597                         bolivar.sanchez@epn.edu.ec   \n",
      "6598                         bolivar.sanchez@epn.edu.ec   \n",
      "6599                         luis.basantes02@epn.edu.ec   \n",
      "6600                         luis.basantes02@epn.edu.ec   \n",
      "\n",
      "                 Epn_mail_unique  \n",
      "0     juan.zambrano03@epn.edu.ec  \n",
      "0      javier.bolanos@epn.edu.ec  \n",
      "1      nelson.mayorga@epn.edu.ec  \n",
      "2        andrea.plaza@epn.edu.ec  \n",
      "3      jennifer.borja@epn.edu.ec  \n",
      "...                          ...  \n",
      "6596  cristian.sigcho@epn.edu.ec  \n",
      "6597  bolivar.sanchez@epn.edu.ec  \n",
      "6598  bolivar.sanchez@epn.edu.ec  \n",
      "6599  luis.basantes02@epn.edu.ec  \n",
      "6600  luis.basantes02@epn.edu.ec  \n",
      "\n",
      "[8391 rows x 5 columns]\n"
     ]
    }
   ],
   "source": [
    "print(df3)"
   ]
  },
  {
   "cell_type": "markdown",
   "id": "1c2288a5",
   "metadata": {},
   "source": [
    "-------"
   ]
  },
  {
   "cell_type": "code",
   "execution_count": 57,
   "id": "a50d076a",
   "metadata": {},
   "outputs": [],
   "source": [
    "# print(students_and_tesis)"
   ]
  },
  {
   "cell_type": "markdown",
   "id": "f3eb549b",
   "metadata": {},
   "source": [
    "## Transformación"
   ]
  },
  {
   "cell_type": "markdown",
   "id": "734f9930",
   "metadata": {},
   "source": [
    "Para el proceso de transformación se procede a intersecar los dos dataframes, mediante el correo institucional"
   ]
  },
  {
   "cell_type": "code",
   "execution_count": 68,
   "id": "20185723",
   "metadata": {},
   "outputs": [],
   "source": [
    "def combinar_dataframes(df1, df2):\n",
    "    nuevo_df = pd.merge(df1, df2, left_on='Email', right_on='Epn_mail_unique')\n",
    "    return nuevo_df"
   ]
  },
  {
   "cell_type": "markdown",
   "id": "79f206ab",
   "metadata": {},
   "source": [
    "Método que genera un nuevo dataFrame realizando una intersección entre los dos dataFrames en base al campo email"
   ]
  },
  {
   "cell_type": "code",
   "execution_count": 69,
   "id": "034a62b1",
   "metadata": {},
   "outputs": [],
   "source": [
    "def generar_dataframe_interseccion(df1, df2):\n",
    "    # Obtiene los correos electrónicos únicos en ambos DataFrames\n",
    "    emails_df1 = set(df1['Email'])\n",
    "    emails_df2 = set(df2['Epn_mail_unique'])\n",
    "    \n",
    "    \n",
    "    # Encuentra los correos electrónicos que se repiten en ambos DataFrames\n",
    "    emails_repetidos = list(emails_df1.intersection(emails_df2))\n",
    "    \n",
    "    # Filtra los DataFrames originales utilizando los correos electrónicos repetidos\n",
    "    df1_interseccion = df1[df1['Email'].isin(emails_repetidos)]\n",
    "    df2_interseccion = df2[df2['Epn_mail_unique'].isin(emails_repetidos)]\n",
    "    \n",
    "    # Crea un nuevo DataFrame con los valores que se repiten en ambos DataFrames\n",
    "    dataframe_interseccion = pd.concat([df1_interseccion, df2_interseccion], ignore_index=True)\n",
    "    \n",
    "    return dataframe_interseccion"
   ]
  },
  {
   "cell_type": "code",
   "execution_count": 72,
   "id": "30a58e8f",
   "metadata": {},
   "outputs": [],
   "source": [
    "merge_info = combinar_dataframes(students_2012_info,df3)"
   ]
  },
  {
   "cell_type": "code",
   "execution_count": 73,
   "id": "4c27a7b4",
   "metadata": {},
   "outputs": [
    {
     "name": "stdout",
     "output_type": "stream",
     "text": [
      "APELLIDOS                                              ABARCA ROBLES\n",
      "NOMBRES                                                  JUAN DANIEL\n",
      "CARRERA                                    INGENIERIA AGROINDUSTRIAL\n",
      "Email_x                                       juan.abarca@epn.edu.ec\n",
      "Carrera                                    INGENIERIA AGROINDUSTRIAL\n",
      "FecGradoOral                                      30/04/2020 0:00:00\n",
      "Email_y            juan.abarca.r.1995@hotmail.com; juan.abarca@ep...\n",
      "EpnEmails                                     juan.abarca@epn.edu.ec\n",
      "Epn_mail_unique                               juan.abarca@epn.edu.ec\n",
      "Name: 0, dtype: object\n"
     ]
    }
   ],
   "source": [
    "print(merge_info.iloc[0])"
   ]
  },
  {
   "cell_type": "markdown",
   "id": "85eba3ce",
   "metadata": {},
   "source": [
    "Método que transforma la fecha"
   ]
  },
  {
   "cell_type": "code",
   "execution_count": 74,
   "id": "62942162",
   "metadata": {},
   "outputs": [],
   "source": [
    "def convertir_fecha(cadena_fecha):\n",
    "    formato = \"%d/%m/%Y %H:%M:%S\"\n",
    "    fecha = datetime.strptime(cadena_fecha, formato)\n",
    "    return fecha"
   ]
  },
  {
   "cell_type": "markdown",
   "id": "27b32151",
   "metadata": {},
   "source": [
    "Calular el tiempo"
   ]
  },
  {
   "cell_type": "code",
   "execution_count": 130,
   "id": "61200459",
   "metadata": {},
   "outputs": [],
   "source": [
    "def restar_fechas(fecha1, fecha2):\n",
    "    formato = '%Y-%m-%d %H:%M:%S'\n",
    "    \n",
    "    # Convertir las cadenas a objetos datetime\n",
    "    fecha1_dt = datetime.strptime(fecha1, formato)\n",
    "    fecha2_dt = datetime.strptime(fecha2, formato)\n",
    "    \n",
    "    # Calcular la diferencia de tiempo\n",
    "    diferencia = fecha2_dt - fecha1_dt\n",
    "    \n",
    "    # Calcular la diferencia en años\n",
    "    diferencia_anios = diferencia.days / 365.25\n",
    "    \n",
    "    # Retornar la diferencia en años\n",
    "    return diferencia_anios\n"
   ]
  },
  {
   "cell_type": "markdown",
   "id": "de2cb329",
   "metadata": {},
   "source": [
    "Método que toma le fecha en la que se registró la defensa de grado oral 'FecGradoOral' y se procede a calcular el tiempo transcurrido desde 2012\n"
   ]
  },
  {
   "cell_type": "code",
   "execution_count": 131,
   "id": "459c04b1",
   "metadata": {},
   "outputs": [],
   "source": [
    "def calcular_anios(fecha1, fecha2):\n",
    "    anios = fecha1.year - fecha2.year\n",
    "    if fecha1.month < fecha2.month or (fecha1.month == fecha2.month and fecha1.day < fecha2.day):\n",
    "        anios -= 1\n",
    "    return anios"
   ]
  },
  {
   "cell_type": "code",
   "execution_count": 136,
   "id": "e86ce003",
   "metadata": {},
   "outputs": [],
   "source": [
    "def add_elapsed_time_column(df):\n",
    "    # Constantes\n",
    "    formato = \"%d/%m/%Y %H:%M:%S\"\n",
    "    date_time_2012 = datetime(2012, 1, 1, 0, 0, 0)\n",
    "    \n",
    "    oral_defense_date_string = df['FecGradoOral']\n",
    "    elapsed_date_from_2012 = []\n",
    "    \n",
    "    for line in oral_defense_date_string:\n",
    "        if isinstance(line, str):\n",
    "            fecha_datetime = datetime.strptime(line, formato)\n",
    "            elapsed_time = calcular_anios(fecha_datetime, date_time_2012)\n",
    "            elapsed_date_from_2012.append(elapsed_time)\n",
    "        else:\n",
    "            elapsed_date_from_2012.append(0)\n",
    "    \n",
    "    df['TiempoGraduación'] = elapsed_date_from_2012\n",
    "    return df\n",
    "            "
   ]
  },
  {
   "cell_type": "code",
   "execution_count": 137,
   "id": "da29beaf",
   "metadata": {},
   "outputs": [
    {
     "name": "stdout",
     "output_type": "stream",
     "text": [
      "Empty DataFrame\n",
      "Columns: [APELLIDOS, NOMBRES, CARRERA, Email, Carrera, FecGradoOral, EpnEmails, TiempoGraduación]\n",
      "Index: []\n"
     ]
    }
   ],
   "source": [
    "print(merge_info)"
   ]
  },
  {
   "cell_type": "code",
   "execution_count": 133,
   "id": "a1e88583",
   "metadata": {},
   "outputs": [],
   "source": [
    "clean_info = add_elapsed_time_column(merge_info)"
   ]
  },
  {
   "cell_type": "code",
   "execution_count": 134,
   "id": "a5cfaae6",
   "metadata": {
    "scrolled": true
   },
   "outputs": [
    {
     "name": "stdout",
     "output_type": "stream",
     "text": [
      "Empty DataFrame\n",
      "Columns: [APELLIDOS, NOMBRES, CARRERA, Email, Carrera, FecGradoOral, EpnEmails, TiempoGraduación]\n",
      "Index: []\n"
     ]
    }
   ],
   "source": [
    "print(clean_info)"
   ]
  },
  {
   "cell_type": "markdown",
   "id": "ac956133",
   "metadata": {},
   "source": [
    "## Load"
   ]
  },
  {
   "cell_type": "markdown",
   "id": "e31cdb71",
   "metadata": {},
   "source": [
    "Vamos a realizar un gráfico que nos indique que el timepo de la carrera"
   ]
  },
  {
   "cell_type": "code",
   "execution_count": 135,
   "id": "cb74a637",
   "metadata": {},
   "outputs": [
    {
     "name": "stdout",
     "output_type": "stream",
     "text": [
      "***\n"
     ]
    },
    {
     "ename": "KeyError",
     "evalue": "'INGENIERIA AGROINDUSTRIAL'",
     "output_type": "error",
     "traceback": [
      "\u001b[0;31m---------------------------------------------------------------------------\u001b[0m",
      "\u001b[0;31mKeyError\u001b[0m                                  Traceback (most recent call last)",
      "Cell \u001b[0;32mIn[135], line 6\u001b[0m\n\u001b[1;32m      4\u001b[0m agrupado \u001b[38;5;241m=\u001b[39m clean_info\u001b[38;5;241m.\u001b[39mgroupby([\u001b[38;5;124m'\u001b[39m\u001b[38;5;124mCARRERA\u001b[39m\u001b[38;5;124m'\u001b[39m])\n\u001b[1;32m      5\u001b[0m \u001b[38;5;28mprint\u001b[39m(\u001b[38;5;124m\"\u001b[39m\u001b[38;5;124m***\u001b[39m\u001b[38;5;124m\"\u001b[39m)\n\u001b[0;32m----> 6\u001b[0m \u001b[38;5;28mprint\u001b[39m(\u001b[43magrupado\u001b[49m\u001b[38;5;241;43m.\u001b[39;49m\u001b[43mget_group\u001b[49m\u001b[43m(\u001b[49m\u001b[38;5;124;43m'\u001b[39;49m\u001b[38;5;124;43mINGENIERIA AGROINDUSTRIAL\u001b[39;49m\u001b[38;5;124;43m'\u001b[39;49m\u001b[43m)\u001b[49m)\n\u001b[1;32m      7\u001b[0m \u001b[38;5;28mprint\u001b[39m(\u001b[38;5;124m\"\u001b[39m\u001b[38;5;124m---\u001b[39m\u001b[38;5;124m\"\u001b[39m)\n\u001b[1;32m      8\u001b[0m \u001b[38;5;28mprint\u001b[39m(agrupado\u001b[38;5;241m.\u001b[39mget_group(\u001b[38;5;124m'\u001b[39m\u001b[38;5;124mINGENIERIA AGROINDUSTRIAL\u001b[39m\u001b[38;5;124m'\u001b[39m)[\u001b[38;5;124m'\u001b[39m\u001b[38;5;124mTiempoGraduación\u001b[39m\u001b[38;5;124m'\u001b[39m]\u001b[38;5;241m.\u001b[39mmean())\n",
      "File \u001b[0;32m~/anaconda3/lib/python3.10/site-packages/pandas/core/groupby/groupby.py:817\u001b[0m, in \u001b[0;36mBaseGroupBy.get_group\u001b[0;34m(self, name, obj)\u001b[0m\n\u001b[1;32m    815\u001b[0m inds \u001b[38;5;241m=\u001b[39m \u001b[38;5;28mself\u001b[39m\u001b[38;5;241m.\u001b[39m_get_index(name)\n\u001b[1;32m    816\u001b[0m \u001b[38;5;28;01mif\u001b[39;00m \u001b[38;5;129;01mnot\u001b[39;00m \u001b[38;5;28mlen\u001b[39m(inds):\n\u001b[0;32m--> 817\u001b[0m     \u001b[38;5;28;01mraise\u001b[39;00m \u001b[38;5;167;01mKeyError\u001b[39;00m(name)\n\u001b[1;32m    819\u001b[0m \u001b[38;5;28;01mreturn\u001b[39;00m obj\u001b[38;5;241m.\u001b[39m_take_with_is_copy(inds, axis\u001b[38;5;241m=\u001b[39m\u001b[38;5;28mself\u001b[39m\u001b[38;5;241m.\u001b[39maxis)\n",
      "\u001b[0;31mKeyError\u001b[0m: 'INGENIERIA AGROINDUSTRIAL'"
     ]
    }
   ],
   "source": [
    "import matplotlib.pyplot as plt\n",
    "import pandas as pd\n",
    "import numpy as np\n",
    "agrupado = clean_info.groupby(['CARRERA'])\n",
    "print(\"***\")\n",
    "print(agrupado.get_group('INGENIERIA AGROINDUSTRIAL'))\n",
    "print(\"---\")\n",
    "print(agrupado.get_group('INGENIERIA AGROINDUSTRIAL')['TiempoGraduación'].mean())\n",
    "print(\"***\")\n"
   ]
  },
  {
   "cell_type": "code",
   "execution_count": null,
   "id": "14cb7029",
   "metadata": {},
   "outputs": [],
   "source": []
  },
  {
   "cell_type": "code",
   "execution_count": null,
   "id": "748242d4",
   "metadata": {},
   "outputs": [],
   "source": []
  }
 ],
 "metadata": {
  "kernelspec": {
   "display_name": "Python 3 (ipykernel)",
   "language": "python",
   "name": "python3"
  },
  "language_info": {
   "codemirror_mode": {
    "name": "ipython",
    "version": 3
   },
   "file_extension": ".py",
   "mimetype": "text/x-python",
   "name": "python",
   "nbconvert_exporter": "python",
   "pygments_lexer": "ipython3",
   "version": "3.10.9"
  }
 },
 "nbformat": 4,
 "nbformat_minor": 5
}
