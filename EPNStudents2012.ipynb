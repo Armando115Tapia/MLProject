{
 "cells": [
  {
   "cell_type": "markdown",
   "id": "69a7ac4d",
   "metadata": {},
   "source": [
    "# Escuela Politécnica Nacional"
   ]
  },
  {
   "cell_type": "markdown",
   "id": "d3478776",
   "metadata": {},
   "source": [
    "### Objetivos"
   ]
  },
  {
   "cell_type": "markdown",
   "id": "b18cd58b",
   "metadata": {},
   "source": [
    "Este proyecto tiene como objetivo medir el tiempo promedio que los estudiantes de la EPN que ingresarone el semestre 2012-A (pertenecientes a la primera promoción del SENECYT)se tardaron en culminar su carrera y encontrar si existe una relación entre la carrera y el tiempo de graduación.\n",
    "Se debe tener en cuenta que como se trabaja con la lista de planes de tesis, los estudiantes considerados en el anális son solo los que se graduan mediante el proceso de titulación por proyecto."
   ]
  },
  {
   "cell_type": "markdown",
   "id": "99d60dce",
   "metadata": {},
   "source": [
    "Librerías utilizadas"
   ]
  },
  {
   "cell_type": "code",
   "execution_count": 11,
   "id": "b67b818c",
   "metadata": {},
   "outputs": [],
   "source": [
    "import tabula\n",
    "import pandas as pd"
   ]
  },
  {
   "cell_type": "markdown",
   "id": "082badf5",
   "metadata": {},
   "source": [
    "### Parámetros y configuraciones"
   ]
  },
  {
   "cell_type": "code",
   "execution_count": 12,
   "id": "e82e99ae",
   "metadata": {},
   "outputs": [],
   "source": [
    "FILE_PATH_STUDENT = \"inputs/APROBADOS INGENIERIA_2012.pdf\"\n",
    "FILE_PATH_STUDENT_HTML = \"inputs/planesTesis.html\"\n",
    "FILE_PATH_STUDENTS_CSV = \"epnStudents2021.csv\""
   ]
  },
  {
   "cell_type": "markdown",
   "id": "b44b7110",
   "metadata": {},
   "source": [
    "## Extracción"
   ]
  },
  {
   "cell_type": "markdown",
   "id": "5a50659d",
   "metadata": {},
   "source": [
    "Para realizar este análisis, se toma información de dos fuentes: \n",
    "- Lista de estudiantes aprobados para inicar el prepólitecnico en el semestre 2012 - A en formato PDF \n",
    "-  Lista de todos los planes aprovados disponible en la página del saew [saew](https://saew.epn.edu.ec/SAETESIS/BusquedaPlanTesis.aspx) en formato HTML"
   ]
  },
  {
   "cell_type": "markdown",
   "id": "e0c2aba0",
   "metadata": {},
   "source": [
    "### Extración de información de estudiantes aprovados para el 2012-A en formato PDF"
   ]
  },
  {
   "cell_type": "markdown",
   "id": "ee3726de",
   "metadata": {},
   "source": [
    "Leer información del pdf y convertir en archivo CSV"
   ]
  },
  {
   "cell_type": "code",
   "execution_count": 13,
   "id": "bd61ed1d",
   "metadata": {},
   "outputs": [],
   "source": [
    "def getInfoFromPdf():\n",
    "    tabula.convert_into(FILE_PATH_STUDENT, FILE_PATH_STUDENTS_CSV, pages='all')"
   ]
  },
  {
   "cell_type": "markdown",
   "id": "a70e96e8",
   "metadata": {},
   "source": [
    "Método para generar el dataset a partir un CSV"
   ]
  },
  {
   "cell_type": "code",
   "execution_count": 14,
   "id": "816b3013",
   "metadata": {},
   "outputs": [],
   "source": [
    "def getDatasetFromCSVFile(file_path_param):\n",
    "    data_set = pd.read_csv(FILE_PATH_STUDENTS_CSV)\n",
    "    return data_set"
   ]
  },
  {
   "cell_type": "markdown",
   "id": "60f8477f",
   "metadata": {},
   "source": [
    "Método para generar el correo electrónico de los estudiantes, este campo será utilizado para hacer match\n",
    "con el otro dataset"
   ]
  },
  {
   "cell_type": "code",
   "execution_count": 15,
   "id": "4e5aebeb",
   "metadata": {},
   "outputs": [],
   "source": [
    "def addEmail(df):\n",
    "    names = df['NOMBRES']\n",
    "    apellidos = df['APELLIDOS']\n",
    "\n",
    "    # Generar los correos electrónicos\n",
    "    correos = []\n",
    "    for nombre, apellido in zip(names, apellidos):\n",
    "        nombre_partes = nombre.lower().split()\n",
    "        apellido_partes = apellido.lower().split()\n",
    "\n",
    "        # Construir el correo electrónico\n",
    "        correo = f\"{nombre_partes[0]}.{apellido_partes[0]}@epn.edu.ec.com\"\n",
    "        correos.append(correo)\n",
    "\n",
    "    dataset['email'] = correos\n",
    "    return dataset"
   ]
  },
  {
   "cell_type": "markdown",
   "id": "03afa7c3",
   "metadata": {},
   "source": [
    "Método que retorna un data set con la información <br>\n",
    "[Nombre , Carrera, Email]"
   ]
  },
  {
   "cell_type": "code",
   "execution_count": 16,
   "id": "0bcfcc78",
   "metadata": {},
   "outputs": [],
   "source": [
    "def getInfo2012Students():\n",
    "    getInfoFromPdf()\n",
    "    info_students_from_pdf = getDatasetFromCSVFile(FILE_PATH_STUDENTS_CSV)\n",
    "    info_studens_with_email = addEmail(info_students_from_pdf)\n",
    "    return info_studens_with_email\n",
    "    "
   ]
  },
  {
   "cell_type": "code",
   "execution_count": 6,
   "id": "80f1a76b",
   "metadata": {},
   "outputs": [
    {
     "ename": "NameError",
     "evalue": "name 'tabula' is not defined",
     "output_type": "error",
     "traceback": [
      "\u001b[0;31m---------------------------------------------------------------------------\u001b[0m",
      "\u001b[0;31mNameError\u001b[0m                                 Traceback (most recent call last)",
      "Cell \u001b[0;32mIn[6], line 1\u001b[0m\n\u001b[0;32m----> 1\u001b[0m students_2012_info \u001b[38;5;241m=\u001b[39m \u001b[43mgetInfo2012Students\u001b[49m\u001b[43m(\u001b[49m\u001b[43m)\u001b[49m\n",
      "Cell \u001b[0;32mIn[5], line 2\u001b[0m, in \u001b[0;36mgetInfo2012Students\u001b[0;34m()\u001b[0m\n\u001b[1;32m      1\u001b[0m \u001b[38;5;28;01mdef\u001b[39;00m \u001b[38;5;21mgetInfo2012Students\u001b[39m():\n\u001b[0;32m----> 2\u001b[0m     \u001b[43mgetInfoFromPdf\u001b[49m\u001b[43m(\u001b[49m\u001b[43m)\u001b[49m\n\u001b[1;32m      3\u001b[0m     info_students_from_pdf \u001b[38;5;241m=\u001b[39m getDatasetFromCSVFile(FILE_PATH_STUDENTS_CSV)\n\u001b[1;32m      4\u001b[0m     info_studens_with_email \u001b[38;5;241m=\u001b[39m addEmail(info_students_from_pdf)\n",
      "Cell \u001b[0;32mIn[1], line 2\u001b[0m, in \u001b[0;36mgetInfoFromPdf\u001b[0;34m()\u001b[0m\n\u001b[1;32m      1\u001b[0m \u001b[38;5;28;01mdef\u001b[39;00m \u001b[38;5;21mgetInfoFromPdf\u001b[39m():\n\u001b[0;32m----> 2\u001b[0m     \u001b[43mtabula\u001b[49m\u001b[38;5;241m.\u001b[39mconvert_into(FILE_PATH_STUDENT, FILE_PATH_STUDENTS_CSV, pages\u001b[38;5;241m=\u001b[39m\u001b[38;5;124m'\u001b[39m\u001b[38;5;124mall\u001b[39m\u001b[38;5;124m'\u001b[39m)\n",
      "\u001b[0;31mNameError\u001b[0m: name 'tabula' is not defined"
     ]
    }
   ],
   "source": [
    "students_2012_info = getInfo2012Students()"
   ]
  },
  {
   "cell_type": "markdown",
   "id": "e1f23dd1",
   "metadata": {},
   "source": [
    "### Extración de información los planes de proyecto de titulación en formato HTML"
   ]
  },
  {
   "cell_type": "code",
   "execution_count": 101,
   "id": "c1661bbd",
   "metadata": {},
   "outputs": [
    {
     "name": "stdout",
     "output_type": "stream",
     "text": [
      "                                                Carrera        FecGradoOral  \\\n",
      "0                    (RRA) ELECTRONICA Y AUTOMATIZACION                 NaN   \n",
      "1                    (RRA) ELECTRONICA Y AUTOMATIZACION                 NaN   \n",
      "2     (RRA) MAESTRIA DE INVESTIGACION EN GESTION DE ...                 NaN   \n",
      "3     (RRA) MAESTRIA DE INVESTIGACION EN GESTION DE ...                 NaN   \n",
      "4     (RRA) MAESTRIA DE INVESTIGACION EN GESTION DE ...                 NaN   \n",
      "...                                                 ...                 ...   \n",
      "8385             TECNOLOGIA EN MANTENIMIENTO INDUSTRIAL  17/08/2018 0:00:00   \n",
      "8386             TECNOLOGIA EN MANTENIMIENTO INDUSTRIAL                 NaN   \n",
      "8387             TECNOLOGIA EN MANTENIMIENTO INDUSTRIAL                 NaN   \n",
      "8388      TECNOLOGIA EN PROCESOS DE PRODUCCION MECANICA  15/06/2017 0:00:00   \n",
      "8389      TECNOLOGIA EN PROCESOS DE PRODUCCION MECANICA  15/06/2017 0:00:00   \n",
      "\n",
      "                           Email  \n",
      "0     juan.zambrano03@epn.edu.ec  \n",
      "1      javier.bolanos@epn.edu.ec  \n",
      "2      nelson.mayorga@epn.edu.ec  \n",
      "3        andrea.plaza@epn.edu.ec  \n",
      "4      jennifer.borja@epn.edu.ec  \n",
      "...                          ...  \n",
      "8385  cristian.sigcho@epn.edu.ec  \n",
      "8386  bolivar.sanchez@epn.edu.ec  \n",
      "8387  bolivar.sanchez@epn.edu.ec  \n",
      "8388  luis.basantes02@epn.edu.ec  \n",
      "8389  luis.basantes02@epn.edu.ec  \n",
      "\n",
      "[8390 rows x 3 columns]\n"
     ]
    }
   ],
   "source": [
    "# Leer el archivo HTML y obtener una lista de DataFrames\n",
    "dataframes = pd.read_html(FILE_PATH_STUDENT_HTML)\n",
    "\n",
    "# Acceder al primer DataFrame de la lista\n",
    "columnEmail = dataframes[0]\n",
    "columnsName = ['Carrera','FecGradoOral','Email']\n",
    "new_emp_list = []\n",
    "\n",
    "for i in range(len(columnEmail)):\n",
    "    carrera = columnEmail.iloc[i]['Carrera']\n",
    "    fecGradoOral = columnEmail.iloc[i]['FecGradoOral']\n",
    "    correos = columnEmail.iloc[i]['Email']\n",
    "    for correo in correos.split():\n",
    "        if \"@epn.edu.ec\" in correo:\n",
    "            #print(correo)\n",
    "            new_emp_list.append([carrera, fecGradoOral, correo])\n",
    "dfTarget = pd.DataFrame(new_emp_list, columns=columnsName)\n",
    "# Imprimir el nuevo DataFrame\n",
    "print(dfTarget)"
   ]
  },
  {
   "cell_type": "markdown",
   "id": "f3eb549b",
   "metadata": {},
   "source": [
    "## Transformación"
   ]
  },
  {
   "cell_type": "markdown",
   "id": "ac956133",
   "metadata": {},
   "source": [
    "## Load"
   ]
  },
  {
   "cell_type": "code",
   "execution_count": 22,
   "id": "ed6766d6",
   "metadata": {},
   "outputs": [
    {
     "name": "stdout",
     "output_type": "stream",
     "text": [
      "            APELLIDOS               NOMBRES                    CARRERA  \\\n",
      "0       ABARCA ROBLES           JUAN DANIEL  INGENIERIA AGROINDUSTRIAL   \n",
      "1     ACOSTA CEVALLOS        STALIN ROBERTO                 MATEMATICA   \n",
      "2      ACOSTA ORDOÑEZ  CHRISTOPHER LEONARDO        INGENIERIA MECANICA   \n",
      "3       ACOSTA ROSERO           LUIS FELIPE        INGENIERIA MECANICA   \n",
      "4       ACUÑA MONTERO         MARLON ANDRES                     FISICA   \n",
      "..                ...                   ...                        ...   \n",
      "768    ZAPATA HERRERA      CHRISTIAN JAVIER        INGENIERIA MECANICA   \n",
      "769    ZAPATA HIDALGO        JOSSELYN PAOLA  INGENIERIA AGROINDUSTRIAL   \n",
      "770      ZAPATA TERAN     STEPHANY CAROLINA     INGENIERIA EMPRESARIAL   \n",
      "771  ZURITA FERNANDEZ         DIEGO ESTEBAN    INGENIERIA EN PETROLEOS   \n",
      "772       ZURITA YUGS          KEVIN JAVIER        INGENIERIA MECANICA   \n",
      "\n",
      "                                 email  \n",
      "0           juan.abarca@epn.edu.ec.com  \n",
      "1         stalin.acosta@epn.edu.ec.com  \n",
      "2    christopher.acosta@epn.edu.ec.com  \n",
      "3           luis.acosta@epn.edu.ec.com  \n",
      "4          marlon.acuña@epn.edu.ec.com  \n",
      "..                                 ...  \n",
      "768    christian.zapata@epn.edu.ec.com  \n",
      "769     josselyn.zapata@epn.edu.ec.com  \n",
      "770     stephany.zapata@epn.edu.ec.com  \n",
      "771        diego.zurita@epn.edu.ec.com  \n",
      "772        kevin.zurita@epn.edu.ec.com  \n",
      "\n",
      "[773 rows x 4 columns]\n"
     ]
    }
   ],
   "source": [
    "if __name__ == '__main__':\n",
    "    getInfoFromPdf()\n",
    "    dataset = getDatasetFromCSVFile(FILE_PATH_STUDENTS_CSV)\n",
    "    dataset = addEmail(dataset)\n",
    "    print(dataset)"
   ]
  },
  {
   "cell_type": "code",
   "execution_count": null,
   "id": "07024f28",
   "metadata": {},
   "outputs": [],
   "source": []
  }
 ],
 "metadata": {
  "kernelspec": {
   "display_name": "Python 3 (ipykernel)",
   "language": "python",
   "name": "python3"
  },
  "language_info": {
   "codemirror_mode": {
    "name": "ipython",
    "version": 3
   },
   "file_extension": ".py",
   "mimetype": "text/x-python",
   "name": "python",
   "nbconvert_exporter": "python",
   "pygments_lexer": "ipython3",
   "version": "3.10.9"
  }
 },
 "nbformat": 4,
 "nbformat_minor": 5
}
