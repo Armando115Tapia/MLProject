{
 "cells": [
  {
   "cell_type": "markdown",
   "id": "69a7ac4d",
   "metadata": {},
   "source": [
    "# Escuela Politécnica Nacional"
   ]
  },
  {
   "cell_type": "markdown",
   "id": "d3478776",
   "metadata": {},
   "source": [
    "### Objetivos"
   ]
  },
  {
   "cell_type": "markdown",
   "id": "b18cd58b",
   "metadata": {},
   "source": [
    "Este proyecto tiene como objetivo medir el tiempo promedio que los estudiantes de la EPN que ingresarone el semestre 2012-A (pertenecientes a la primera promoción del SENECYT)se tardaron en culminar su carrera y encontrar si existe una relación entre la carrera y el tiempo de graduación.\n",
    "Se debe tener en cuenta que como se trabaja con la lista de planes de tesis, los estudiantes considerados en el anális son solo los que se graduan mediante el proceso de titulación por proyecto."
   ]
  },
  {
   "cell_type": "markdown",
   "id": "99d60dce",
   "metadata": {},
   "source": [
    "Librerías utilizadas"
   ]
  },
  {
   "cell_type": "code",
   "execution_count": 48,
   "id": "b67b818c",
   "metadata": {},
   "outputs": [],
   "source": [
    "import tabula\n",
    "import pandas as pd"
   ]
  },
  {
   "cell_type": "markdown",
   "id": "082badf5",
   "metadata": {},
   "source": [
    "### Parámetros y configuraciones"
   ]
  },
  {
   "cell_type": "code",
   "execution_count": 49,
   "id": "e82e99ae",
   "metadata": {},
   "outputs": [],
   "source": [
    "FILE_PATH_STUDENT = \"inputs/APROBADOS INGENIERIA_2012.pdf\"\n",
    "FILE_PATH_STUDENT_HTML = \"inputs/planesTesis.html\"\n",
    "FILE_PATH_STUDENTS_CSV = \"epnStudents2021.csv\""
   ]
  },
  {
   "cell_type": "markdown",
   "id": "b44b7110",
   "metadata": {},
   "source": [
    "## Extracción"
   ]
  },
  {
   "cell_type": "markdown",
   "id": "849aabb2",
   "metadata": {},
   "source": [
    "Para realizar este análisis, se toma información de dos fuentes: \n",
    "- Lista de estudiantes aprobados para inicar el prepólitecnico en el semestre 2012 - A en formato PDF \n",
    "-  Lista de todos los planes aprovados disponible en la página del saew [saew](https://saew.epn.edu.ec/SAETESIS/BusquedaPlanTesis.aspx) en formato HTML"
   ]
  },
  {
   "cell_type": "markdown",
   "id": "5ba6bcaf",
   "metadata": {},
   "source": [
    "### Extración de información de estudiantes aprovados para el 2012-A en formato PDF"
   ]
  },
  {
   "cell_type": "markdown",
   "id": "0c92d02a",
   "metadata": {},
   "source": [
    "Leer información del pdf y convertir en archivo CSV"
   ]
  },
  {
   "cell_type": "code",
   "execution_count": 50,
   "id": "bd61ed1d",
   "metadata": {},
   "outputs": [],
   "source": [
    "def getInfoFromPdf():\n",
    "    tabula.convert_into(FILE_PATH_STUDENT, 'epnStudents2021.csv', pages='all')"
   ]
  },
  {
   "cell_type": "markdown",
   "id": "a70e96e8",
   "metadata": {},
   "source": [
    "Método para generar el dataset a partir un CSV"
   ]
  },
  {
   "cell_type": "code",
   "execution_count": 51,
   "id": "816b3013",
   "metadata": {},
   "outputs": [],
   "source": [
    "def getDatasetFromCSVFile(file_path_param):\n",
    "    data_set = pd.read_csv(FILE_PATH_STUDENTS_CSV)\n",
    "    return data_set"
   ]
  },
  {
   "cell_type": "markdown",
   "id": "60f8477f",
   "metadata": {},
   "source": [
    "Método para generar el correo electrónico de los estudiantes, este campo será utilizado para hacer match\n",
    "con el otro dataset"
   ]
  },
  {
   "cell_type": "code",
   "execution_count": 52,
   "id": "4e5aebeb",
   "metadata": {},
   "outputs": [],
   "source": [
    "def addEmail(df):\n",
    "    names = df['NOMBRES']\n",
    "    apellidos = df['APELLIDOS']\n",
    "\n",
    "    # Generar los correos electrónicos\n",
    "    correos = []\n",
    "    for nombre, apellido in zip(names, apellidos):\n",
    "        nombre_partes = nombre.lower().split()\n",
    "        apellido_partes = apellido.lower().split()\n",
    "\n",
    "        # Construir el correo electrónico\n",
    "        correo = f\"{nombre_partes[0]}.{apellido_partes[0]}@epn.edu.ec\"\n",
    "        correos.append(correo)\n",
    "\n",
    "    df['Email'] = correos\n",
    "    return df"
   ]
  },
  {
   "cell_type": "markdown",
   "id": "3e5351a7",
   "metadata": {},
   "source": [
    "Método que retorna un data set con la información <br>\n",
    "[Nombre , Carrera, Email]"
   ]
  },
  {
   "cell_type": "code",
   "execution_count": 53,
   "id": "c2e6ea47",
   "metadata": {},
   "outputs": [],
   "source": [
    "def getInfo2012Students():\n",
    "    getInfoFromPdf()\n",
    "    info_students_from_pdf = getDatasetFromCSVFile(FILE_PATH_STUDENTS_CSV)\n",
    "    info_studens_with_email = addEmail(info_students_from_pdf)\n",
    "    return info_studens_with_email\n",
    "    "
   ]
  },
  {
   "cell_type": "code",
   "execution_count": 54,
   "id": "95e786ae",
   "metadata": {},
   "outputs": [],
   "source": [
    "students_2012_info = getInfo2012Students()"
   ]
  },
  {
   "cell_type": "code",
   "execution_count": 55,
   "id": "7baab00a",
   "metadata": {},
   "outputs": [
    {
     "name": "stdout",
     "output_type": "stream",
     "text": [
      "            APELLIDOS               NOMBRES                    CARRERA  \\\n",
      "0       ABARCA ROBLES           JUAN DANIEL  INGENIERIA AGROINDUSTRIAL   \n",
      "1     ACOSTA CEVALLOS        STALIN ROBERTO                 MATEMATICA   \n",
      "2      ACOSTA ORDOÑEZ  CHRISTOPHER LEONARDO        INGENIERIA MECANICA   \n",
      "3       ACOSTA ROSERO           LUIS FELIPE        INGENIERIA MECANICA   \n",
      "4       ACUÑA MONTERO         MARLON ANDRES                     FISICA   \n",
      "..                ...                   ...                        ...   \n",
      "768    ZAPATA HERRERA      CHRISTIAN JAVIER        INGENIERIA MECANICA   \n",
      "769    ZAPATA HIDALGO        JOSSELYN PAOLA  INGENIERIA AGROINDUSTRIAL   \n",
      "770      ZAPATA TERAN     STEPHANY CAROLINA     INGENIERIA EMPRESARIAL   \n",
      "771  ZURITA FERNANDEZ         DIEGO ESTEBAN    INGENIERIA EN PETROLEOS   \n",
      "772       ZURITA YUGS          KEVIN JAVIER        INGENIERIA MECANICA   \n",
      "\n",
      "                             Email  \n",
      "0           juan.abarca@epn.edu.ec  \n",
      "1         stalin.acosta@epn.edu.ec  \n",
      "2    christopher.acosta@epn.edu.ec  \n",
      "3           luis.acosta@epn.edu.ec  \n",
      "4          marlon.acuña@epn.edu.ec  \n",
      "..                             ...  \n",
      "768    christian.zapata@epn.edu.ec  \n",
      "769     josselyn.zapata@epn.edu.ec  \n",
      "770     stephany.zapata@epn.edu.ec  \n",
      "771        diego.zurita@epn.edu.ec  \n",
      "772        kevin.zurita@epn.edu.ec  \n",
      "\n",
      "[773 rows x 4 columns]\n"
     ]
    }
   ],
   "source": [
    "print(students_2012_info)"
   ]
  },
  {
   "cell_type": "markdown",
   "id": "4dd00c22",
   "metadata": {},
   "source": [
    "### Extración de información los planes de proyecto de titulación en formato HTML"
   ]
  },
  {
   "cell_type": "markdown",
   "id": "f4b6a489",
   "metadata": {},
   "source": [
    "Método para extraer información del archivo html, donde se encuentran los planes de tesis\n"
   ]
  },
  {
   "cell_type": "code",
   "execution_count": 56,
   "id": "91567a02",
   "metadata": {},
   "outputs": [],
   "source": [
    "def getInfoTesisFromHTML():\n",
    "    dataframes = pd.read_html(FILE_PATH_STUDENT_HTML)\n",
    "\n",
    "    columnEmail = dataframes[0]\n",
    "    columnsName = ['Carrera','FecGradoOral','Email']\n",
    "    new_emp_list = []\n",
    "\n",
    "    for i in range(len(columnEmail)):\n",
    "        carrera = columnEmail.iloc[i]['Carrera']\n",
    "        fecGradoOral = columnEmail.iloc[i]['FecGradoOral']\n",
    "        correos = columnEmail.iloc[i]['Email']\n",
    "        for correo in correos.split():\n",
    "            if \"@epn.edu.ec\" in correo:\n",
    "                #print(correo)\n",
    "                new_emp_list.append([carrera, fecGradoOral, correo])\n",
    "    return pd.DataFrame(new_emp_list, columns=columnsName)"
   ]
  },
  {
   "cell_type": "code",
   "execution_count": 57,
   "id": "7b36a8ef",
   "metadata": {},
   "outputs": [
    {
     "name": "stdout",
     "output_type": "stream",
     "text": [
      "                                                Carrera        FecGradoOral  \\\n",
      "0                    (RRA) ELECTRONICA Y AUTOMATIZACION                 NaN   \n",
      "1                    (RRA) ELECTRONICA Y AUTOMATIZACION                 NaN   \n",
      "2     (RRA) MAESTRIA DE INVESTIGACION EN GESTION DE ...                 NaN   \n",
      "3     (RRA) MAESTRIA DE INVESTIGACION EN GESTION DE ...                 NaN   \n",
      "4     (RRA) MAESTRIA DE INVESTIGACION EN GESTION DE ...                 NaN   \n",
      "...                                                 ...                 ...   \n",
      "8385             TECNOLOGIA EN MANTENIMIENTO INDUSTRIAL  17/08/2018 0:00:00   \n",
      "8386             TECNOLOGIA EN MANTENIMIENTO INDUSTRIAL                 NaN   \n",
      "8387             TECNOLOGIA EN MANTENIMIENTO INDUSTRIAL                 NaN   \n",
      "8388      TECNOLOGIA EN PROCESOS DE PRODUCCION MECANICA  15/06/2017 0:00:00   \n",
      "8389      TECNOLOGIA EN PROCESOS DE PRODUCCION MECANICA  15/06/2017 0:00:00   \n",
      "\n",
      "                           Email  \n",
      "0     juan.zambrano03@epn.edu.ec  \n",
      "1      javier.bolanos@epn.edu.ec  \n",
      "2      nelson.mayorga@epn.edu.ec  \n",
      "3        andrea.plaza@epn.edu.ec  \n",
      "4      jennifer.borja@epn.edu.ec  \n",
      "...                          ...  \n",
      "8385  cristian.sigcho@epn.edu.ec  \n",
      "8386  bolivar.sanchez@epn.edu.ec  \n",
      "8387  bolivar.sanchez@epn.edu.ec  \n",
      "8388  luis.basantes02@epn.edu.ec  \n",
      "8389  luis.basantes02@epn.edu.ec  \n",
      "\n",
      "[8390 rows x 3 columns]\n"
     ]
    }
   ],
   "source": [
    "students_and_tesis = getInfoTesisFromHTML()\n",
    "print(students_and_tesis)"
   ]
  },
  {
   "cell_type": "markdown",
   "id": "f3eb549b",
   "metadata": {},
   "source": [
    "## Transformación"
   ]
  },
  {
   "cell_type": "markdown",
   "id": "0703266a",
   "metadata": {},
   "source": [
    "Para el proceso de transformación se procede a intersecar los dos dataframes, mediante el correo institucional"
   ]
  },
  {
   "cell_type": "markdown",
   "id": "bff6539d",
   "metadata": {},
   "source": [
    "Método que genera un nuevo dataFrame realizando una intersección entre los dos dataFrames en base al campo email"
   ]
  },
  {
   "cell_type": "code",
   "execution_count": 58,
   "id": "8d064df7",
   "metadata": {},
   "outputs": [],
   "source": [
    "def generar_dataframe_interseccion(df1, df2):\n",
    "    # Obtiene los correos electrónicos únicos en ambos DataFrames\n",
    "    emails_df1 = set(df1['Email'])\n",
    "    emails_df2 = set(df2['Email'])\n",
    "    \n",
    "    \n",
    "    # Encuentra los correos electrónicos que se repiten en ambos DataFrames\n",
    "    emails_repetidos = list(emails_df1.intersection(emails_df2))\n",
    "    print(emails_repetidos)\n",
    "    \n",
    "    # Filtra los DataFrames originales utilizando los correos electrónicos repetidos\n",
    "    df1_interseccion = df1[df1['Email'].isin(emails_repetidos)]\n",
    "    df2_interseccion = df2[df2['Email'].isin(emails_repetidos)]\n",
    "    \n",
    "    # Crea un nuevo DataFrame con los valores que se repiten en ambos DataFrames\n",
    "    dataframe_interseccion = pd.concat([df1_interseccion, df2_interseccion], ignore_index=True)\n",
    "    \n",
    "    return dataframe_interseccion"
   ]
  },
  {
   "cell_type": "code",
   "execution_count": 59,
   "id": "9aff2f41",
   "metadata": {},
   "outputs": [
    {
     "name": "stdout",
     "output_type": "stream",
     "text": [
      "['mario.giler@epn.edu.ec', 'kelly.alvarado@epn.edu.ec', 'nelly.herrera@epn.edu.ec', 'jorge.laverde@epn.edu.ec', 'francisco.jacome@epn.edu.ec', 'andres.cruz@epn.edu.ec', 'katherine.vivanco@epn.edu.ec', 'maria.lara@epn.edu.ec', 'katheryn.nicolalde@epn.edu.ec', 'cristian.cabrera@epn.edu.ec', 'bryan.lozano@epn.edu.ec', 'shirley.heredia@epn.edu.ec', 'sharon.larco@epn.edu.ec', 'vicente.capito@epn.edu.ec', 'veronica.torres@epn.edu.ec', 'dennis.arequipa@epn.edu.ec', 'karen.paguanquiza@epn.edu.ec', 'david.jacome@epn.edu.ec', 'alexis.guzman@epn.edu.ec', 'michelle.cruz@epn.edu.ec', 'victor.sandoval@epn.edu.ec', 'santiago.lema@epn.edu.ec', 'paul.bermudez@epn.edu.ec', 'jorge.campos@epn.edu.ec', 'jonathan.salazar@epn.edu.ec', 'christian.quezada@epn.edu.ec', 'maria.sangucho@epn.edu.ec', 'jonathan.franco@epn.edu.ec', 'nathaly.cumbicos@epn.edu.ec', 'nayla.velasquez@epn.edu.ec', 'yadira.yapo@epn.edu.ec', 'francisco.hidalgo@epn.edu.ec', 'cristina.pauta@epn.edu.ec', 'jimmy.pardo@epn.edu.ec', 'marcelo.maya@epn.edu.ec', 'paola.quiloango@epn.edu.ec', 'santiago.encalada@epn.edu.ec', 'cristhian.motoche@epn.edu.ec', 'leonardo.medina@epn.edu.ec', 'jennifer.taipe@epn.edu.ec', 'juan.salazar@epn.edu.ec', 'treissy.alejandro@epn.edu.ec', 'dayana.yaguana@epn.edu.ec', 'diego.valdiviezo@epn.edu.ec', 'juan.lopez@epn.edu.ec', 'sandy.donoso@epn.edu.ec', 'michelle.peralbo@epn.edu.ec', 'paola.mancheno@epn.edu.ec', 'daniel.castillo@epn.edu.ec', 'samayta.quijia@epn.edu.ec', 'juan.salinas@epn.edu.ec', 'wendy.cumanicho@epn.edu.ec', 'sara.gallegos@epn.edu.ec', 'evelin.majin@epn.edu.ec', 'leslie.cabascango@epn.edu.ec', 'gabriela.revelo@epn.edu.ec', 'robinson.huacho@epn.edu.ec', 'ronny.tarira@epn.edu.ec', 'gissela.vargas@epn.edu.ec', 'maria.manobanda@epn.edu.ec', 'andrea.alvear@epn.edu.ec', 'fernando.otero@epn.edu.ec', 'edith.bulla@epn.edu.ec', 'megan.toinga@epn.edu.ec', 'diego.tafur@epn.edu.ec', 'erika.quilca@epn.edu.ec', 'alejandro.pardina@epn.edu.ec', 'franklin.ramos@epn.edu.ec', 'carla.ortiz@epn.edu.ec', 'lupe.toapanta@epn.edu.ec', 'diego.yambay@epn.edu.ec', 'cristina.morillo@epn.edu.ec', 'katherine.teran@epn.edu.ec', 'bianca.castillo@epn.edu.ec', 'cristhian.alvear@epn.edu.ec', 'diego.vargas@epn.edu.ec', 'mayra.sangucho@epn.edu.ec', 'viviana.piedra@epn.edu.ec', 'diego.serrano@epn.edu.ec', 'diego.chancusi@epn.edu.ec', 'juan.cepeda@epn.edu.ec', 'camila.cornejo@epn.edu.ec', 'alan.cevallos@epn.edu.ec', 'cristian.ronda@epn.edu.ec', 'pablo.cabrera@epn.edu.ec', 'kevin.carrillo@epn.edu.ec', 'miguel.perez@epn.edu.ec', 'diego.jativa@epn.edu.ec', 'angel.torres@epn.edu.ec', 'jessica.guamantica@epn.edu.ec', 'lisseth.uquillas@epn.edu.ec', 'brayan.jimenez@epn.edu.ec', 'stalin.aguirre@epn.edu.ec', 'marco.paez@epn.edu.ec', 'jaime.suquillo@epn.edu.ec', 'marlon.urquizo@epn.edu.ec', 'carla.santorum@epn.edu.ec', 'david.morocho@epn.edu.ec', 'fernando.moncada@epn.edu.ec', 'joan.brito@epn.edu.ec', 'carlos.osorio@epn.edu.ec', 'javier.reyes@epn.edu.ec', 'cristian.jacho@epn.edu.ec', 'andres.jordan@epn.edu.ec', 'maria.cuesta@epn.edu.ec', 'alvaro.bonilla@epn.edu.ec', 'stephanie.sandoval@epn.edu.ec', 'jhon.lozano@epn.edu.ec', 'alejandra.rivera@epn.edu.ec', 'karol.ortiz@epn.edu.ec', 'carlos.paredes@epn.edu.ec', 'hugo.porras@epn.edu.ec', 'yessica.cruz@epn.edu.ec', 'bryan.mosquera@epn.edu.ec', 'daniel.naula@epn.edu.ec', 'alex.pinaida@epn.edu.ec', 'joshua.lee@epn.edu.ec', 'maryuri.tixe@epn.edu.ec', 'miguel.aguilar@epn.edu.ec', 'diego.chamorro@epn.edu.ec', 'ronny.cabrera@epn.edu.ec', 'adrian.pacheco@epn.edu.ec', 'david.verdezoto@epn.edu.ec', 'andrea.pantoja@epn.edu.ec', 'carlos.gallegos@epn.edu.ec', 'cristian.tigsilema@epn.edu.ec', 'diego.lombeida@epn.edu.ec', 'pablo.moreta@epn.edu.ec', 'katherine.valdivieso@epn.edu.ec', 'christian.basantes@epn.edu.ec', 'gabriela.angamarca@epn.edu.ec', 'priscila.guayasamin@epn.edu.ec', 'daniela.torres@epn.edu.ec', 'adrian.martinez@epn.edu.ec', 'fernanda.vega@epn.edu.ec', 'dolores.alban@epn.edu.ec', 'kleber.aguirre@epn.edu.ec', 'daniela.paez@epn.edu.ec', 'ana.chicaiza@epn.edu.ec', 'katherine.morales@epn.edu.ec', 'kevin.vizuete@epn.edu.ec', 'margarita.ruiz@epn.edu.ec', 'michel.toro@epn.edu.ec', 'washington.alvarez@epn.edu.ec', 'alex.toasa@epn.edu.ec', 'adriana.revelo@epn.edu.ec', 'gabriela.ayala@epn.edu.ec', 'veronica.rosero@epn.edu.ec', 'heidy.montalvo@epn.edu.ec', 'miriam.cuenca@epn.edu.ec', 'guido.chicaiza@epn.edu.ec', 'kathya.quirindumbay@epn.edu.ec', 'jacquelin.montoya@epn.edu.ec', 'frank.mitte@epn.edu.ec', 'ronald.flores@epn.edu.ec', 'david.vallejo@epn.edu.ec', 'cristian.guatemal@epn.edu.ec', 'lita.sandoya@epn.edu.ec', 'jeysson.tapia@epn.edu.ec', 'enrique.almagor@epn.edu.ec', 'daysi.farinango@epn.edu.ec', 'evelyn.regalado@epn.edu.ec', 'william.pancho@epn.edu.ec', 'esteban.chiguano@epn.edu.ec', 'carlos.ruales@epn.edu.ec', 'andrea.chimarro@epn.edu.ec', 'marcelo.arias@epn.edu.ec', 'jorge.portilla@epn.edu.ec', 'luis.espinoza@epn.edu.ec', 'freddy.nieto@epn.edu.ec', 'kevin.canacuan@epn.edu.ec', 'yessenia.erraez@epn.edu.ec', 'wilmer.santacruz@epn.edu.ec', 'victor.tibanlombo@epn.edu.ec', 'jennifer.medina@epn.edu.ec', 'samir.carlosama@epn.edu.ec', 'cesar.toasa@epn.edu.ec', 'jessenia.chuquimarca@epn.edu.ec', 'jennifer.ortega@epn.edu.ec', 'dario.beltran@epn.edu.ec', 'mayra.frutos@epn.edu.ec', 'estefania.serrano@epn.edu.ec', 'sandra.aguilar@epn.edu.ec', 'erik.jaramillo@epn.edu.ec', 'deidamia.quishpe@epn.edu.ec', 'viviana.meza@epn.edu.ec', 'jaime.yerovi@epn.edu.ec', 'erick.borbor@epn.edu.ec', 'katherine.martinez@epn.edu.ec', 'daniel.cabezas@epn.edu.ec', 'yesenia.cuyo@epn.edu.ec', 'dayanna.brito@epn.edu.ec', 'gustavo.davila@epn.edu.ec', 'javier.tinoco@epn.edu.ec', 'andrea.villacis@epn.edu.ec', 'gissela.ortiz@epn.edu.ec', 'bryan.mier@epn.edu.ec', 'paulina.quijia@epn.edu.ec', 'carlos.sandoval@epn.edu.ec', 'jaime.sanchez@epn.edu.ec', 'luis.quishpe@epn.edu.ec', 'andrea.delgado@epn.edu.ec', 'alex.carrera@epn.edu.ec', 'frank.paguay@epn.edu.ec', 'jennifer.tejedor@epn.edu.ec', 'daniel.lopez@epn.edu.ec', 'santiago.pilicita@epn.edu.ec', 'freddy.real@epn.edu.ec', 'kevin.zurita@epn.edu.ec', 'danilo.calvachi@epn.edu.ec', 'juan.escobar@epn.edu.ec', 'andres.lopez@epn.edu.ec', 'ana.taipe@epn.edu.ec', 'yhann.cortez@epn.edu.ec', 'diego.vaca@epn.edu.ec', 'diego.santana@epn.edu.ec', 'jose.diaz@epn.edu.ec', 'juan.abarca@epn.edu.ec', 'jhon.arias@epn.edu.ec', 'byron.romero@epn.edu.ec', 'wilson.sanchez@epn.edu.ec', 'carlos.pichucho@epn.edu.ec', 'eugenia.samaniego@epn.edu.ec', 'tania.barahona@epn.edu.ec', 'steven.chiriboga@epn.edu.ec', 'rodney.tapia@epn.edu.ec', 'maria.robalino@epn.edu.ec', 'erik.morocho@epn.edu.ec', 'jorge.carrillo@epn.edu.ec', 'kevin.paucar@epn.edu.ec', 'elvis.mantilla@epn.edu.ec', 'tania.herrera@epn.edu.ec', 'santiago.cushicondor@epn.edu.ec', 'estuardo.laverde@epn.edu.ec', 'juan.torres@epn.edu.ec', 'jose.flores@epn.edu.ec', 'ana.castillo@epn.edu.ec', 'yadira.morillo@epn.edu.ec', 'oscar.palacios@epn.edu.ec', 'myriam.pullas@epn.edu.ec', 'sara.rosero@epn.edu.ec', 'esteban.chalan@epn.edu.ec', 'jhonny.reyes@epn.edu.ec', 'jhonny.lozada@epn.edu.ec', 'veronica.cardenas@epn.edu.ec', 'krissia.cabezas@epn.edu.ec', 'german.herrera@epn.edu.ec', 'karen.siguencia@epn.edu.ec', 'alexander.pacheco@epn.edu.ec', 'cristian.tuz@epn.edu.ec', 'jenny.arguello@epn.edu.ec', 'estefanni.carpio@epn.edu.ec', 'jonathan.sarango@epn.edu.ec', 'jose.guanga@epn.edu.ec', 'paola.artos@epn.edu.ec', 'paola.tuqueres@epn.edu.ec', 'jorge.trujillo@epn.edu.ec', 'jonathan.cervantes@epn.edu.ec', 'andres.chasiliquin@epn.edu.ec', 'joselyn.barros@epn.edu.ec', 'dayana.herrera@epn.edu.ec', 'luis.vaca@epn.edu.ec', 'estefani.pullas@epn.edu.ec', 'andrea.lopez@epn.edu.ec', 'nathalie.vasconez@epn.edu.ec', 'freddy.garzon@epn.edu.ec', 'katherine.espinoza@epn.edu.ec', 'ricardo.lopez@epn.edu.ec', 'david.moncayo@epn.edu.ec', 'ronald.pillajo@epn.edu.ec', 'gissela.correa@epn.edu.ec', 'mauricio.castro@epn.edu.ec', 'santiago.jurado@epn.edu.ec', 'richard.burneo@epn.edu.ec', 'adrian.espinosa@epn.edu.ec', 'josue.salgado@epn.edu.ec', 'esteban.flores@epn.edu.ec', 'valeria.pineda@epn.edu.ec', 'katherine.vela@epn.edu.ec', 'andrea.pilco@epn.edu.ec', 'santiago.astudillo@epn.edu.ec', 'omar.chamorro@epn.edu.ec', 'wilman.arevalo@epn.edu.ec']\n"
     ]
    }
   ],
   "source": [
    "info_total = generar_dataframe_interseccion(students_2012_info,students_and_tesis)"
   ]
  },
  {
   "cell_type": "code",
   "execution_count": 60,
   "id": "7265b58b",
   "metadata": {},
   "outputs": [
    {
     "name": "stdout",
     "output_type": "stream",
     "text": [
      "            APELLIDOS           NOMBRES  \\\n",
      "0       ABARCA ROBLES       JUAN DANIEL   \n",
      "1     AGUILAR ALVAREZ    SANDRA NATHALY   \n",
      "2    AGUILAR ENRÍQUEZ  MIGUEL ALEJANDRO   \n",
      "3       AGUIRRE CUEVA  KLEBER ALEXANDER   \n",
      "4         AGUIRRE IZA   STALIN PATRICIO   \n",
      "..                ...               ...   \n",
      "629               NaN               NaN   \n",
      "630               NaN               NaN   \n",
      "631               NaN               NaN   \n",
      "632               NaN               NaN   \n",
      "633               NaN               NaN   \n",
      "\n",
      "                                               CARRERA  \\\n",
      "0                            INGENIERIA AGROINDUSTRIAL   \n",
      "1        INGENIERIA ELECTRONICA Y REDES DE INFORMACION   \n",
      "2                                           MATEMATICA   \n",
      "3        INGENIERIA ELECTRONICA Y REDES DE INFORMACION   \n",
      "4    INGENIERIA EN SISTEMAS INFORMATICOS Y DE COMPU...   \n",
      "..                                                 ...   \n",
      "629                                                NaN   \n",
      "630                                                NaN   \n",
      "631                                                NaN   \n",
      "632                                                NaN   \n",
      "633                                                NaN   \n",
      "\n",
      "                          Email                        Carrera  \\\n",
      "0        juan.abarca@epn.edu.ec                            NaN   \n",
      "1     sandra.aguilar@epn.edu.ec                            NaN   \n",
      "2     miguel.aguilar@epn.edu.ec                            NaN   \n",
      "3     kleber.aguirre@epn.edu.ec                            NaN   \n",
      "4     stalin.aguirre@epn.edu.ec                            NaN   \n",
      "..                          ...                            ...   \n",
      "629  leonardo.medina@epn.edu.ec                     MATEMATICA   \n",
      "630  paola.quiloango@epn.edu.ec                     MATEMATICA   \n",
      "631        ana.taipe@epn.edu.ec                     MATEMATICA   \n",
      "632   kevin.carrillo@epn.edu.ec  TECNOLOGIA EN ELECTROMECANICA   \n",
      "633   kevin.carrillo@epn.edu.ec  TECNOLOGIA EN ELECTROMECANICA   \n",
      "\n",
      "           FecGradoOral  \n",
      "0                   NaN  \n",
      "1                   NaN  \n",
      "2                   NaN  \n",
      "3                   NaN  \n",
      "4                   NaN  \n",
      "..                  ...  \n",
      "629  06/09/2019 0:00:00  \n",
      "630  09/10/2018 0:00:00  \n",
      "631  26/01/2023 0:00:00  \n",
      "632  30/06/2021 0:00:00  \n",
      "633  14/09/2021 0:00:00  \n",
      "\n",
      "[634 rows x 6 columns]\n"
     ]
    }
   ],
   "source": [
    "print(info_total)"
   ]
  },
  {
   "cell_type": "markdown",
   "id": "ac956133",
   "metadata": {},
   "source": [
    "## Load"
   ]
  },
  {
   "cell_type": "code",
   "execution_count": 22,
   "id": "ed6766d6",
   "metadata": {},
   "outputs": [
    {
     "name": "stdout",
     "output_type": "stream",
     "text": [
      "            APELLIDOS               NOMBRES                    CARRERA  \\\n",
      "0       ABARCA ROBLES           JUAN DANIEL  INGENIERIA AGROINDUSTRIAL   \n",
      "1     ACOSTA CEVALLOS        STALIN ROBERTO                 MATEMATICA   \n",
      "2      ACOSTA ORDOÑEZ  CHRISTOPHER LEONARDO        INGENIERIA MECANICA   \n",
      "3       ACOSTA ROSERO           LUIS FELIPE        INGENIERIA MECANICA   \n",
      "4       ACUÑA MONTERO         MARLON ANDRES                     FISICA   \n",
      "..                ...                   ...                        ...   \n",
      "768    ZAPATA HERRERA      CHRISTIAN JAVIER        INGENIERIA MECANICA   \n",
      "769    ZAPATA HIDALGO        JOSSELYN PAOLA  INGENIERIA AGROINDUSTRIAL   \n",
      "770      ZAPATA TERAN     STEPHANY CAROLINA     INGENIERIA EMPRESARIAL   \n",
      "771  ZURITA FERNANDEZ         DIEGO ESTEBAN    INGENIERIA EN PETROLEOS   \n",
      "772       ZURITA YUGS          KEVIN JAVIER        INGENIERIA MECANICA   \n",
      "\n",
      "                                 email  \n",
      "0           juan.abarca@epn.edu.ec.com  \n",
      "1         stalin.acosta@epn.edu.ec.com  \n",
      "2    christopher.acosta@epn.edu.ec.com  \n",
      "3           luis.acosta@epn.edu.ec.com  \n",
      "4          marlon.acuña@epn.edu.ec.com  \n",
      "..                                 ...  \n",
      "768    christian.zapata@epn.edu.ec.com  \n",
      "769     josselyn.zapata@epn.edu.ec.com  \n",
      "770     stephany.zapata@epn.edu.ec.com  \n",
      "771        diego.zurita@epn.edu.ec.com  \n",
      "772        kevin.zurita@epn.edu.ec.com  \n",
      "\n",
      "[773 rows x 4 columns]\n"
     ]
    }
   ],
   "source": [
    "if __name__ == '__main__':\n",
    "    getInfoFromPdf()\n",
    "    dataset = getDatasetFromCSVFile(FILE_PATH_STUDENTS_CSV)\n",
    "    dataset = addEmail(dataset)\n",
    "    print(dataset)"
   ]
  },
  {
   "cell_type": "code",
   "execution_count": null,
   "id": "07024f28",
   "metadata": {},
   "outputs": [],
   "source": []
  }
 ],
 "metadata": {
  "kernelspec": {
   "display_name": "Python 3 (ipykernel)",
   "language": "python",
   "name": "python3"
  },
  "language_info": {
   "codemirror_mode": {
    "name": "ipython",
    "version": 3
   },
   "file_extension": ".py",
   "mimetype": "text/x-python",
   "name": "python",
   "nbconvert_exporter": "python",
   "pygments_lexer": "ipython3",
   "version": "3.10.9"
  }
 },
 "nbformat": 4,
 "nbformat_minor": 5
}
