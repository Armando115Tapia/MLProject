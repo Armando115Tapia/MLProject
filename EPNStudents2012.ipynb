{
 "cells": [
  {
   "cell_type": "markdown",
   "id": "69a7ac4d",
   "metadata": {},
   "source": [
    "# Escuela Politécnica Nacional"
   ]
  },
  {
   "cell_type": "markdown",
   "id": "d3478776",
   "metadata": {},
   "source": [
    "### Objetivos"
   ]
  },
  {
   "cell_type": "markdown",
   "id": "b18cd58b",
   "metadata": {},
   "source": [
    "Este proyecto tiene como objetivo principal, medir el tiempo promedio que los estudiantes de la EPN se tardaron en culminar su carrera y encontrar si existe una relación entre la carrera y el tiempo de graduación"
   ]
  },
  {
   "cell_type": "markdown",
   "id": "99d60dce",
   "metadata": {},
   "source": [
    "Librerías utilizadas"
   ]
  },
  {
   "cell_type": "code",
   "execution_count": 6,
   "id": "b67b818c",
   "metadata": {},
   "outputs": [],
   "source": [
    "import tabula\n",
    "import pandas as pd"
   ]
  },
  {
   "cell_type": "markdown",
   "id": "082badf5",
   "metadata": {},
   "source": [
    "### Parámetros y configuraciones"
   ]
  },
  {
   "cell_type": "code",
   "execution_count": 7,
   "id": "e82e99ae",
   "metadata": {},
   "outputs": [],
   "source": [
    "FILE_PATH_STUDENT = \"inputs/APROBADOS INGENIERIA_2012.pdf\"\n",
    "FILE_PATH_STUDENTS_CSV = \"epnStudents2021.csv\""
   ]
  },
  {
   "cell_type": "code",
   "execution_count": 8,
   "id": "4045cc30",
   "metadata": {},
   "outputs": [],
   "source": [
    "FILE_PATH_FIEW_FOREST = \"inputs/forestfires.csv\""
   ]
  },
  {
   "cell_type": "markdown",
   "id": "b44b7110",
   "metadata": {},
   "source": [
    "## Extracción"
   ]
  },
  {
   "cell_type": "markdown",
   "id": "d1fb4ffa",
   "metadata": {},
   "source": [
    "Método para crear un archivo csv a partir del pdf"
   ]
  },
  {
   "cell_type": "code",
   "execution_count": 16,
   "id": "cc96d45b",
   "metadata": {},
   "outputs": [],
   "source": [
    "# TODO: Hacer que lea todas las página, de momento solo lee uno"
   ]
  },
  {
   "cell_type": "code",
   "execution_count": 15,
   "id": "bd61ed1d",
   "metadata": {},
   "outputs": [],
   "source": [
    "def getInfoFromPdf():\n",
    "    tabula.convert_into(FILE_PATH_STUDENT, \"epnStudents2021.csv\", pages='all')"
   ]
  },
  {
   "cell_type": "markdown",
   "id": "a70e96e8",
   "metadata": {},
   "source": [
    "Método para generar el dataset a partir un CSV"
   ]
  },
  {
   "cell_type": "code",
   "execution_count": 10,
   "id": "816b3013",
   "metadata": {},
   "outputs": [],
   "source": [
    "def getDatasetFromCSVFile(file_path_param):\n",
    "    data_set = pd.read_csv(FILE_PATH_STUDENTS_CSV)\n",
    "    return data_set"
   ]
  },
  {
   "cell_type": "markdown",
   "id": "60f8477f",
   "metadata": {},
   "source": [
    "Método para generar el correo electrónico de los estudiantes, este campo será utilizado para hacer match\n",
    "con el otro dataset"
   ]
  },
  {
   "cell_type": "code",
   "execution_count": 12,
   "id": "4e5aebeb",
   "metadata": {},
   "outputs": [],
   "source": [
    "def addEmail(data_frame: pd.DataFrame):\n",
    "    data_frame['email'] = \"test@test.com\"\n",
    "    return data_frame"
   ]
  },
  {
   "cell_type": "markdown",
   "id": "f3eb549b",
   "metadata": {},
   "source": [
    "## Transformación"
   ]
  },
  {
   "cell_type": "markdown",
   "id": "ac956133",
   "metadata": {},
   "source": [
    "## Load"
   ]
  },
  {
   "cell_type": "code",
   "execution_count": 13,
   "id": "ed6766d6",
   "metadata": {},
   "outputs": [
    {
     "name": "stdout",
     "output_type": "stream",
     "text": [
      "Init script\n",
      "End Script\n"
     ]
    }
   ],
   "source": [
    "if __name__ == '__main__':\n",
    "    print(\"Init script\")\n",
    "    getInfoFromPdf()\n",
    "    dataset = getDatasetFromCSVFile(FILE_PATH_STUDENTS_CSV)\n",
    "    print(\"End Script\")"
   ]
  },
  {
   "cell_type": "code",
   "execution_count": null,
   "id": "91209d7f",
   "metadata": {},
   "outputs": [],
   "source": []
  },
  {
   "cell_type": "code",
   "execution_count": null,
   "id": "0e275fe8",
   "metadata": {},
   "outputs": [],
   "source": []
  }
 ],
 "metadata": {
  "kernelspec": {
   "display_name": "Python 3 (ipykernel)",
   "language": "python",
   "name": "python3"
  },
  "language_info": {
   "codemirror_mode": {
    "name": "ipython",
    "version": 3
   },
   "file_extension": ".py",
   "mimetype": "text/x-python",
   "name": "python",
   "nbconvert_exporter": "python",
   "pygments_lexer": "ipython3",
   "version": "3.10.9"
  }
 },
 "nbformat": 4,
 "nbformat_minor": 5
}
